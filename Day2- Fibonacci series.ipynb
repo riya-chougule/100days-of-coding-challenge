{
 "cells": [
  {
   "cell_type": "markdown",
   "id": "61effe80",
   "metadata": {},
   "source": [
    "### Day2 - fibonacci series"
   ]
  },
  {
   "cell_type": "markdown",
   "id": "131bb4be",
   "metadata": {},
   "source": [
    "### Description : This notebook includes fibonacci series"
   ]
  },
  {
   "cell_type": "markdown",
   "id": "9bab1399",
   "metadata": {},
   "source": [
    "### Date : 11-09-2021"
   ]
  },
  {
   "cell_type": "code",
   "execution_count": 4,
   "id": "c493b8bd",
   "metadata": {},
   "outputs": [
    {
     "name": "stdout",
     "output_type": "stream",
     "text": [
      "Enter the number for series : 7\n",
      "The fibonacci series : \n",
      "0\n",
      "1\n",
      "1\n",
      "2\n",
      "3\n",
      "5\n",
      "8\n"
     ]
    }
   ],
   "source": [
    "first,second=0,1\n",
    "num=int(input(\"Enter the number for series : \"))\n",
    "print(\"The fibonacci series : \")\n",
    "for i in range(0,num):\n",
    "    if i <=1:\n",
    "        result=i\n",
    "    else:\n",
    "        result=first+second\n",
    "        first=second\n",
    "        second=result\n",
    "    print (result)"
   ]
  }
 ],
 "metadata": {
  "kernelspec": {
   "display_name": "Python 3",
   "language": "python",
   "name": "python3"
  },
  "language_info": {
   "codemirror_mode": {
    "name": "ipython",
    "version": 3
   },
   "file_extension": ".py",
   "mimetype": "text/x-python",
   "name": "python",
   "nbconvert_exporter": "python",
   "pygments_lexer": "ipython3",
   "version": "3.8.8"
  }
 },
 "nbformat": 4,
 "nbformat_minor": 5
}
