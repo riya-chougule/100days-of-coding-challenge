{
 "cells": [
  {
   "cell_type": "markdown",
   "id": "ad638778",
   "metadata": {},
   "source": [
    "### Description : This notebook contains a right-angled star pattern"
   ]
  },
  {
   "cell_type": "markdown",
   "id": "e78ae2b3",
   "metadata": {},
   "source": [
    "### 14-09-2021"
   ]
  },
  {
   "cell_type": "code",
   "execution_count": 1,
   "id": "5d32948e",
   "metadata": {},
   "outputs": [
    {
     "name": "stdout",
     "output_type": "stream",
     "text": [
      " \n",
      "*  \n",
      "* *  \n",
      "* * *  \n",
      "* * * *  \n",
      "* * * * *  \n",
      "* * * * * *  \n",
      "* * * * * * *  \n",
      "* * * * * * * *  \n",
      "* * * * * * * * *  \n",
      "* * * * * * * * * *  \n"
     ]
    }
   ],
   "source": [
    "rows = 11\n",
    "for i in range(rows):\n",
    "    for j in range (i):\n",
    "        print (\"*\", end =\" \")\n",
    "    print (\" \")"
   ]
  }
 ],
 "metadata": {
  "kernelspec": {
   "display_name": "Python 3",
   "language": "python",
   "name": "python3"
  },
  "language_info": {
   "codemirror_mode": {
    "name": "ipython",
    "version": 3
   },
   "file_extension": ".py",
   "mimetype": "text/x-python",
   "name": "python",
   "nbconvert_exporter": "python",
   "pygments_lexer": "ipython3",
   "version": "3.8.8"
  }
 },
 "nbformat": 4,
 "nbformat_minor": 5
}
