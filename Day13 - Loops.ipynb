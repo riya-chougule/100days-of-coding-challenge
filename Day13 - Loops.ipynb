{
 "cells": [
  {
   "cell_type": "markdown",
   "id": "831c2316",
   "metadata": {},
   "source": [
    "### Description : In this notebook, I have implemented loops in Python using some basic problem statements"
   ]
  },
  {
   "cell_type": "markdown",
   "id": "75d3328e",
   "metadata": {},
   "source": [
    "### Date : 22-09-2021"
   ]
  },
  {
   "cell_type": "markdown",
   "id": "4a11adb9",
   "metadata": {},
   "source": [
    "#### 1. For loops"
   ]
  },
  {
   "cell_type": "code",
   "execution_count": 1,
   "id": "e8339644",
   "metadata": {},
   "outputs": [
    {
     "name": "stdout",
     "output_type": "stream",
     "text": [
      "\n",
      "🤓 \n",
      "🤓 🤓 \n",
      "🤓 🤓 🤓 \n",
      "🤓 🤓 🤓 🤓 \n",
      "🤓 🤓 🤓 🤓 🤓 \n"
     ]
    }
   ],
   "source": [
    "# Pattern of emojis\n",
    "for j in range (6):\n",
    "    for k in range (j):\n",
    "        print (\"🤓\", end =\" \")\n",
    "    print (\"\")"
   ]
  },
  {
   "cell_type": "code",
   "execution_count": 2,
   "id": "2ddf6ea8",
   "metadata": {},
   "outputs": [
    {
     "name": "stdout",
     "output_type": "stream",
     "text": [
      "2\n",
      "4\n",
      "6\n",
      "8\n",
      "10\n",
      "12\n",
      "14\n",
      "16\n",
      "18\n",
      "20\n"
     ]
    }
   ],
   "source": [
    "# Table of 2\n",
    "for i in range (1,11):\n",
    "    print (i*2)"
   ]
  },
  {
   "cell_type": "code",
   "execution_count": 3,
   "id": "ea05f4c9",
   "metadata": {},
   "outputs": [
    {
     "name": "stdout",
     "output_type": "stream",
     "text": [
      "Enter a number : 10\n",
      "1\n",
      "3\n",
      "5\n",
      "7\n",
      "9\n"
     ]
    }
   ],
   "source": [
    "# This prints the odd numbers till the given number (num)\n",
    "num = int(input(\"Enter a number : \"))\n",
    "for a in range (1,num+1):\n",
    "    if (a %2 != 0):\n",
    "        print (a)"
   ]
  },
  {
   "cell_type": "code",
   "execution_count": 4,
   "id": "4b9546d1",
   "metadata": {},
   "outputs": [
    {
     "name": "stdout",
     "output_type": "stream",
     "text": [
      "4\n",
      "8\n",
      "12\n",
      "16\n",
      "20\n"
     ]
    }
   ],
   "source": [
    "array =[1,2,3,4,5,6,7,8,9,10,11,12,13,14,15,16,17,18,19,20]\n",
    "for n in array:\n",
    "    if n % 4==0:\n",
    "        print (n)"
   ]
  },
  {
   "cell_type": "markdown",
   "id": "8762eb58",
   "metadata": {},
   "source": [
    "#### 2. While loops"
   ]
  },
  {
   "cell_type": "code",
   "execution_count": 5,
   "id": "d62e457b",
   "metadata": {},
   "outputs": [
    {
     "name": "stdout",
     "output_type": "stream",
     "text": [
      "* * * * * \n",
      "* * * * \n",
      "* * * \n",
      "* * \n",
      "* \n",
      "\n"
     ]
    }
   ],
   "source": [
    "x = 5\n",
    "while x >= 0:\n",
    "    print(\"* \" * x)\n",
    "    x -= 1"
   ]
  },
  {
   "cell_type": "code",
   "execution_count": 6,
   "id": "631dc963",
   "metadata": {},
   "outputs": [
    {
     "name": "stdout",
     "output_type": "stream",
     "text": [
      " Hi  Hi  Hi  Hi  Hi  Hi  Hi  Hi \n"
     ]
    }
   ],
   "source": [
    "p = 8\n",
    "while p%2==0:\n",
    "    print (\" Hi \" * p)\n",
    "    p -=1"
   ]
  },
  {
   "cell_type": "code",
   "execution_count": 7,
   "id": "be91a91b",
   "metadata": {},
   "outputs": [
    {
     "name": "stdout",
     "output_type": "stream",
     "text": [
      "$\n",
      "$\n",
      "$\n",
      "$\n",
      "$\n"
     ]
    }
   ],
   "source": [
    "q = 1\n",
    "while q <=5:\n",
    "    print (\"$\")\n",
    "    q +=1"
   ]
  }
 ],
 "metadata": {
  "kernelspec": {
   "display_name": "Python 3",
   "language": "python",
   "name": "python3"
  },
  "language_info": {
   "codemirror_mode": {
    "name": "ipython",
    "version": 3
   },
   "file_extension": ".py",
   "mimetype": "text/x-python",
   "name": "python",
   "nbconvert_exporter": "python",
   "pygments_lexer": "ipython3",
   "version": "3.8.8"
  }
 },
 "nbformat": 4,
 "nbformat_minor": 5
}
