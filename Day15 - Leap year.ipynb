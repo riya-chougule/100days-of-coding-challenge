{
 "cells": [
  {
   "cell_type": "markdown",
   "id": "410d5b46",
   "metadata": {},
   "source": [
    "### Description : This notebook includes the code which checks whether the given year is a leap year or not"
   ]
  },
  {
   "cell_type": "markdown",
   "id": "f15248b2",
   "metadata": {},
   "source": [
    "### Date : 24-09-2021"
   ]
  },
  {
   "cell_type": "code",
   "execution_count": 1,
   "id": "78fdf729",
   "metadata": {},
   "outputs": [
    {
     "name": "stdout",
     "output_type": "stream",
     "text": [
      "Enter the year: 1996\n",
      "1996 is a Leap Year\n"
     ]
    }
   ],
   "source": [
    "year = int(input(\"Enter the year: \"))\n",
    "\n",
    "if year % 4 == 0 and year % 100 != 0:\n",
    "    print(year, \"is a Leap Year\")\n",
    "elif year % 100 == 0:\n",
    "    print(year, \"is not a Leap Year\")\n",
    "elif year % 400 ==0:\n",
    "    print(year, \"is a Leap Year\")\n",
    "else:\n",
    "    print(year, \"is not a Leap Year\")"
   ]
  }
 ],
 "metadata": {
  "kernelspec": {
   "display_name": "Python 3",
   "language": "python",
   "name": "python3"
  },
  "language_info": {
   "codemirror_mode": {
    "name": "ipython",
    "version": 3
   },
   "file_extension": ".py",
   "mimetype": "text/x-python",
   "name": "python",
   "nbconvert_exporter": "python",
   "pygments_lexer": "ipython3",
   "version": "3.8.8"
  }
 },
 "nbformat": 4,
 "nbformat_minor": 5
}
