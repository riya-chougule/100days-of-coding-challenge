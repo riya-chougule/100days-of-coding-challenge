{
 "cells": [
  {
   "cell_type": "markdown",
   "id": "f0fa7736",
   "metadata": {},
   "source": [
    "### Description : In this notebook, I implemented few popular list operations"
   ]
  },
  {
   "cell_type": "markdown",
   "id": "2ba75632",
   "metadata": {},
   "source": [
    "### Date : 17-09-2021"
   ]
  },
  {
   "cell_type": "code",
   "execution_count": 1,
   "id": "588ffbe1",
   "metadata": {},
   "outputs": [],
   "source": [
    "list1 = ['Myra','Nia','Darshil','Mayank','Kumud','Rehan','Palak','Diya','Kumud','Urvashi','Neil','Kumud','Palak']"
   ]
  },
  {
   "cell_type": "code",
   "execution_count": 2,
   "id": "07cfe879",
   "metadata": {},
   "outputs": [],
   "source": [
    "list2 = [32,6,57,28,85,27,83,64,85,35,28,11,6,28]"
   ]
  },
  {
   "cell_type": "code",
   "execution_count": 3,
   "id": "73e36ef8",
   "metadata": {},
   "outputs": [
    {
     "name": "stdout",
     "output_type": "stream",
     "text": [
      "['Myra', 'Nia', 'Darshil', 'Mayank', 'Kumud', 'Rehan', 'Palak', 'Diya', 'Kumud', 'Urvashi', 'Neil', 'Kumud', 'Palak']\n"
     ]
    }
   ],
   "source": [
    "print (list1)"
   ]
  },
  {
   "cell_type": "code",
   "execution_count": 4,
   "id": "ce898743",
   "metadata": {},
   "outputs": [
    {
     "name": "stdout",
     "output_type": "stream",
     "text": [
      "[32, 6, 57, 28, 85, 27, 83, 64, 85, 35, 28, 11, 6, 28]\n"
     ]
    }
   ],
   "source": [
    "print (list2)"
   ]
  },
  {
   "cell_type": "markdown",
   "id": "54e67121",
   "metadata": {},
   "source": [
    "#### Adding one element "
   ]
  },
  {
   "cell_type": "code",
   "execution_count": 5,
   "id": "04b92452",
   "metadata": {},
   "outputs": [
    {
     "data": {
      "text/plain": [
       "['Myra',\n",
       " 'Nia',\n",
       " 'Darshil',\n",
       " 'Mayank',\n",
       " 'Kumud',\n",
       " 'Rehan',\n",
       " 'Palak',\n",
       " 'Diya',\n",
       " 'Kumud',\n",
       " 'Urvashi',\n",
       " 'Neil',\n",
       " 'Kumud',\n",
       " 'Palak',\n",
       " 'Kush']"
      ]
     },
     "execution_count": 5,
     "metadata": {},
     "output_type": "execute_result"
    }
   ],
   "source": [
    "list1.append('Kush')\n",
    "list1"
   ]
  },
  {
   "cell_type": "code",
   "execution_count": 6,
   "id": "8be75d03",
   "metadata": {},
   "outputs": [
    {
     "data": {
      "text/plain": [
       "[32, 6, 57, 28, 85, 27, 83, 64, 85, 35, 28, 11, 6, 28, 19]"
      ]
     },
     "execution_count": 6,
     "metadata": {},
     "output_type": "execute_result"
    }
   ],
   "source": [
    "list2.append(19)\n",
    "list2"
   ]
  },
  {
   "cell_type": "markdown",
   "id": "a2852b8d",
   "metadata": {},
   "source": [
    "#### Obtaining count of element "
   ]
  },
  {
   "cell_type": "code",
   "execution_count": 7,
   "id": "73782caa",
   "metadata": {},
   "outputs": [
    {
     "data": {
      "text/plain": [
       "3"
      ]
     },
     "execution_count": 7,
     "metadata": {},
     "output_type": "execute_result"
    }
   ],
   "source": [
    "list1.count('Kumud')"
   ]
  },
  {
   "cell_type": "code",
   "execution_count": 8,
   "id": "c3419d22",
   "metadata": {},
   "outputs": [
    {
     "data": {
      "text/plain": [
       "2"
      ]
     },
     "execution_count": 8,
     "metadata": {},
     "output_type": "execute_result"
    }
   ],
   "source": [
    "list2.count(6)"
   ]
  },
  {
   "cell_type": "markdown",
   "id": "3465ee24",
   "metadata": {},
   "source": [
    "#### Deleting an element"
   ]
  },
  {
   "cell_type": "code",
   "execution_count": 9,
   "id": "7fb69ecc",
   "metadata": {},
   "outputs": [
    {
     "data": {
      "text/plain": [
       "[32, 57, 28, 85, 27, 83, 64, 85, 35, 28, 11, 6, 28, 19]"
      ]
     },
     "execution_count": 9,
     "metadata": {},
     "output_type": "execute_result"
    }
   ],
   "source": [
    "list2.pop(1)               #It deletes the element at specified index\n",
    "list2"
   ]
  },
  {
   "cell_type": "code",
   "execution_count": 10,
   "id": "c1eb2d09",
   "metadata": {},
   "outputs": [
    {
     "data": {
      "text/plain": [
       "['Myra',\n",
       " 'Nia',\n",
       " 'Darshil',\n",
       " 'Kumud',\n",
       " 'Rehan',\n",
       " 'Palak',\n",
       " 'Diya',\n",
       " 'Kumud',\n",
       " 'Urvashi',\n",
       " 'Neil',\n",
       " 'Kumud',\n",
       " 'Palak',\n",
       " 'Kush']"
      ]
     },
     "execution_count": 10,
     "metadata": {},
     "output_type": "execute_result"
    }
   ],
   "source": [
    "list1.pop(3)\n",
    "list1"
   ]
  },
  {
   "cell_type": "markdown",
   "id": "9ca211cd",
   "metadata": {},
   "source": [
    "#### Reverse the list"
   ]
  },
  {
   "cell_type": "code",
   "execution_count": 11,
   "id": "ed2e894d",
   "metadata": {},
   "outputs": [],
   "source": [
    "list1.reverse()"
   ]
  },
  {
   "cell_type": "code",
   "execution_count": 12,
   "id": "5e251f8b",
   "metadata": {},
   "outputs": [
    {
     "data": {
      "text/plain": [
       "['Kush',\n",
       " 'Palak',\n",
       " 'Kumud',\n",
       " 'Neil',\n",
       " 'Urvashi',\n",
       " 'Kumud',\n",
       " 'Diya',\n",
       " 'Palak',\n",
       " 'Rehan',\n",
       " 'Kumud',\n",
       " 'Darshil',\n",
       " 'Nia',\n",
       " 'Myra']"
      ]
     },
     "execution_count": 12,
     "metadata": {},
     "output_type": "execute_result"
    }
   ],
   "source": [
    "list1"
   ]
  },
  {
   "cell_type": "code",
   "execution_count": 13,
   "id": "4ce05292",
   "metadata": {},
   "outputs": [],
   "source": [
    "list2.reverse()"
   ]
  },
  {
   "cell_type": "code",
   "execution_count": 14,
   "id": "f28ff448",
   "metadata": {},
   "outputs": [
    {
     "data": {
      "text/plain": [
       "[19, 28, 6, 11, 28, 35, 85, 64, 83, 27, 85, 28, 57, 32]"
      ]
     },
     "execution_count": 14,
     "metadata": {},
     "output_type": "execute_result"
    }
   ],
   "source": [
    "list2"
   ]
  },
  {
   "cell_type": "markdown",
   "id": "6be95350",
   "metadata": {},
   "source": [
    "#### Sort the list"
   ]
  },
  {
   "cell_type": "code",
   "execution_count": 15,
   "id": "6ba0233c",
   "metadata": {},
   "outputs": [
    {
     "data": {
      "text/plain": [
       "[6, 11, 19, 27, 28, 28, 28, 32, 35, 57, 64, 83, 85, 85]"
      ]
     },
     "execution_count": 15,
     "metadata": {},
     "output_type": "execute_result"
    }
   ],
   "source": [
    "list2.sort()\n",
    "list2"
   ]
  },
  {
   "cell_type": "code",
   "execution_count": 16,
   "id": "f29910a9",
   "metadata": {},
   "outputs": [
    {
     "data": {
      "text/plain": [
       "['Darshil',\n",
       " 'Diya',\n",
       " 'Kumud',\n",
       " 'Kumud',\n",
       " 'Kumud',\n",
       " 'Kush',\n",
       " 'Myra',\n",
       " 'Neil',\n",
       " 'Nia',\n",
       " 'Palak',\n",
       " 'Palak',\n",
       " 'Rehan',\n",
       " 'Urvashi']"
      ]
     },
     "execution_count": 16,
     "metadata": {},
     "output_type": "execute_result"
    }
   ],
   "source": [
    "list1.sort()\n",
    "list1"
   ]
  }
 ],
 "metadata": {
  "kernelspec": {
   "display_name": "Python 3",
   "language": "python",
   "name": "python3"
  },
  "language_info": {
   "codemirror_mode": {
    "name": "ipython",
    "version": 3
   },
   "file_extension": ".py",
   "mimetype": "text/x-python",
   "name": "python",
   "nbconvert_exporter": "python",
   "pygments_lexer": "ipython3",
   "version": "3.8.8"
  }
 },
 "nbformat": 4,
 "nbformat_minor": 5
}
