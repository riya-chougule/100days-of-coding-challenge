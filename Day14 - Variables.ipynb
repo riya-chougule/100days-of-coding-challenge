{
 "cells": [
  {
   "cell_type": "markdown",
   "id": "1aee6b04",
   "metadata": {},
   "source": [
    "### Description : In this notebook, I have implemented the different variables in Python"
   ]
  },
  {
   "cell_type": "markdown",
   "id": "02efbb06",
   "metadata": {},
   "source": [
    "### Date : 23-09-2021"
   ]
  },
  {
   "cell_type": "markdown",
   "id": "99515aee",
   "metadata": {},
   "source": [
    "#### Creating variables"
   ]
  },
  {
   "cell_type": "code",
   "execution_count": 1,
   "id": "222e270f",
   "metadata": {},
   "outputs": [
    {
     "name": "stdout",
     "output_type": "stream",
     "text": [
      "25\n",
      "Coco\n"
     ]
    }
   ],
   "source": [
    "x = 25\n",
    "y = 'Coco'\n",
    "print (x)\n",
    "print (y)"
   ]
  },
  {
   "cell_type": "markdown",
   "id": "66228d65",
   "metadata": {},
   "source": [
    "#### Getting type of the variable"
   ]
  },
  {
   "cell_type": "code",
   "execution_count": 2,
   "id": "8c1d607f",
   "metadata": {},
   "outputs": [
    {
     "name": "stdout",
     "output_type": "stream",
     "text": [
      "<class 'float'>\n",
      "<class 'int'>\n"
     ]
    }
   ],
   "source": [
    "p = 56.13\n",
    "q = 2830695\n",
    "print (type (p))\n",
    "print (type(q))"
   ]
  },
  {
   "cell_type": "code",
   "execution_count": 3,
   "id": "c748e1f3",
   "metadata": {},
   "outputs": [
    {
     "name": "stdout",
     "output_type": "stream",
     "text": [
      "<class 'int'>\n",
      "<class 'str'>\n"
     ]
    }
   ],
   "source": [
    "print (type(x))\n",
    "print (type (y))"
   ]
  },
  {
   "cell_type": "markdown",
   "id": "ba391a41",
   "metadata": {},
   "source": [
    "#### Casting of variables"
   ]
  },
  {
   "cell_type": "code",
   "execution_count": 8,
   "id": "17e82de8",
   "metadata": {},
   "outputs": [
    {
     "data": {
      "text/plain": [
       "'247'"
      ]
     },
     "execution_count": 8,
     "metadata": {},
     "output_type": "execute_result"
    }
   ],
   "source": [
    "a = str(247)\n",
    "a"
   ]
  },
  {
   "cell_type": "code",
   "execution_count": 10,
   "id": "686d7bf2",
   "metadata": {},
   "outputs": [
    {
     "data": {
      "text/plain": [
       "39"
      ]
     },
     "execution_count": 10,
     "metadata": {},
     "output_type": "execute_result"
    }
   ],
   "source": [
    "b = int(39.82)\n",
    "b"
   ]
  },
  {
   "cell_type": "code",
   "execution_count": 11,
   "id": "f8d2d352",
   "metadata": {},
   "outputs": [
    {
     "data": {
      "text/plain": [
       "49.0"
      ]
     },
     "execution_count": 11,
     "metadata": {},
     "output_type": "execute_result"
    }
   ],
   "source": [
    "c = float(49)\n",
    "c"
   ]
  },
  {
   "cell_type": "markdown",
   "id": "e8ef2315",
   "metadata": {},
   "source": [
    "#### Case-sensitive variables"
   ]
  },
  {
   "cell_type": "code",
   "execution_count": 12,
   "id": "bd025760",
   "metadata": {},
   "outputs": [],
   "source": [
    "C = 'Riya'"
   ]
  },
  {
   "cell_type": "code",
   "execution_count": 13,
   "id": "e7264f5e",
   "metadata": {},
   "outputs": [
    {
     "data": {
      "text/plain": [
       "49.0"
      ]
     },
     "execution_count": 13,
     "metadata": {},
     "output_type": "execute_result"
    }
   ],
   "source": [
    "c"
   ]
  },
  {
   "cell_type": "code",
   "execution_count": 14,
   "id": "c98a81f6",
   "metadata": {},
   "outputs": [
    {
     "data": {
      "text/plain": [
       "'Riya'"
      ]
     },
     "execution_count": 14,
     "metadata": {},
     "output_type": "execute_result"
    }
   ],
   "source": [
    "C"
   ]
  }
 ],
 "metadata": {
  "kernelspec": {
   "display_name": "Python 3",
   "language": "python",
   "name": "python3"
  },
  "language_info": {
   "codemirror_mode": {
    "name": "ipython",
    "version": 3
   },
   "file_extension": ".py",
   "mimetype": "text/x-python",
   "name": "python",
   "nbconvert_exporter": "python",
   "pygments_lexer": "ipython3",
   "version": "3.8.8"
  }
 },
 "nbformat": 4,
 "nbformat_minor": 5
}
