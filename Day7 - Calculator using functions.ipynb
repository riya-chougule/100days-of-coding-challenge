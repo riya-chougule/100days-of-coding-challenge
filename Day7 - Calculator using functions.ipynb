{
 "cells": [
  {
   "cell_type": "markdown",
   "id": "2c3ca1bd",
   "metadata": {},
   "source": [
    "### Description : In this notebook, we generated simple calculator with basic mathematical functions"
   ]
  },
  {
   "cell_type": "markdown",
   "id": "2e019979",
   "metadata": {},
   "source": [
    "### Date : 16-09-2021"
   ]
  },
  {
   "cell_type": "code",
   "execution_count": 1,
   "id": "6dc88ce4",
   "metadata": {},
   "outputs": [
    {
     "name": "stdout",
     "output_type": "stream",
     "text": [
      "Enter the first number : 10\n",
      "Enter the second number : 5\n"
     ]
    }
   ],
   "source": [
    "num1 = float(input(\"Enter the first number : \"))\n",
    "num2 = float(input(\"Enter the second number : \"))"
   ]
  },
  {
   "cell_type": "markdown",
   "id": "7a9fd9d2",
   "metadata": {},
   "source": [
    "#### Addition"
   ]
  },
  {
   "cell_type": "code",
   "execution_count": 2,
   "id": "8038cd72",
   "metadata": {},
   "outputs": [
    {
     "name": "stdout",
     "output_type": "stream",
     "text": [
      " **** Addition ****\n",
      "Addition result :  15.0\n"
     ]
    }
   ],
   "source": [
    "def addition (a1,b1):\n",
    "    print (\" **** Addition ****\")\n",
    "    add_num = num1 + num2\n",
    "    print (\"Addition result : \",add_num)\n",
    "addition (num1,num2)"
   ]
  },
  {
   "cell_type": "markdown",
   "id": "f0bffc33",
   "metadata": {},
   "source": [
    "#### Subtraction"
   ]
  },
  {
   "cell_type": "code",
   "execution_count": 3,
   "id": "b32ded89",
   "metadata": {},
   "outputs": [
    {
     "name": "stdout",
     "output_type": "stream",
     "text": [
      " **** Subtraction ****\n",
      "Subtraction result :  5.0\n"
     ]
    }
   ],
   "source": [
    "def subtraction (a2,b2):\n",
    "    print (\" **** Subtraction ****\")\n",
    "    sub_num = num1 - num2\n",
    "    print (\"Subtraction result : \",sub_num)\n",
    "subtraction (num1,num2)"
   ]
  },
  {
   "cell_type": "markdown",
   "id": "3e7709dc",
   "metadata": {},
   "source": [
    "#### Multiplication"
   ]
  },
  {
   "cell_type": "code",
   "execution_count": 4,
   "id": "f31e1e33",
   "metadata": {},
   "outputs": [
    {
     "name": "stdout",
     "output_type": "stream",
     "text": [
      " **** Multiplication ****\n",
      "Multiplication result :  50.0\n"
     ]
    }
   ],
   "source": [
    "def multiplication (a3,b3):\n",
    "    print (\" **** Multiplication ****\")\n",
    "    mult_num = num1 * num2\n",
    "    print (\"Multiplication result : \",mult_num)\n",
    "multiplication (num1,num2)"
   ]
  },
  {
   "cell_type": "markdown",
   "id": "74384ab4",
   "metadata": {},
   "source": [
    "#### Division"
   ]
  },
  {
   "cell_type": "code",
   "execution_count": 5,
   "id": "0577e654",
   "metadata": {},
   "outputs": [
    {
     "name": "stdout",
     "output_type": "stream",
     "text": [
      " **** Division ****\n",
      "Division result :  2.0\n"
     ]
    }
   ],
   "source": [
    "def division (a4,b4):\n",
    "    print (\" **** Division ****\")\n",
    "    div_num = num1 / num2\n",
    "    print (\"Division result : \",div_num)\n",
    "division (num1,num2)"
   ]
  }
 ],
 "metadata": {
  "kernelspec": {
   "display_name": "Python 3",
   "language": "python",
   "name": "python3"
  },
  "language_info": {
   "codemirror_mode": {
    "name": "ipython",
    "version": 3
   },
   "file_extension": ".py",
   "mimetype": "text/x-python",
   "name": "python",
   "nbconvert_exporter": "python",
   "pygments_lexer": "ipython3",
   "version": "3.8.8"
  }
 },
 "nbformat": 4,
 "nbformat_minor": 5
}
