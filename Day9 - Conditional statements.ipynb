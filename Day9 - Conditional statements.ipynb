{
 "cells": [
  {
   "cell_type": "markdown",
   "id": "fd37ef29",
   "metadata": {},
   "source": [
    "### Description : This Python notebook contains problem statements of conditional statements"
   ]
  },
  {
   "cell_type": "markdown",
   "id": "4db69182",
   "metadata": {},
   "source": [
    "### Date : 18-09-2021"
   ]
  },
  {
   "cell_type": "markdown",
   "id": "f62b1126",
   "metadata": {},
   "source": [
    "#### 1. A program to find those numbers which are divisible by 7 and multiple of 5, between 1500 and 2700 (both included)"
   ]
  },
  {
   "cell_type": "code",
   "execution_count": 1,
   "id": "7f5b866c",
   "metadata": {},
   "outputs": [
    {
     "name": "stdout",
     "output_type": "stream",
     "text": [
      "1505\n",
      "1540\n",
      "1575\n",
      "1610\n",
      "1645\n",
      "1680\n",
      "1715\n",
      "1750\n",
      "1785\n",
      "1820\n",
      "1855\n",
      "1890\n",
      "1925\n",
      "1960\n",
      "1995\n",
      "2030\n",
      "2065\n",
      "2100\n",
      "2135\n",
      "2170\n",
      "2205\n",
      "2240\n",
      "2275\n",
      "2310\n",
      "2345\n",
      "2380\n",
      "2415\n",
      "2450\n",
      "2485\n",
      "2520\n",
      "2555\n",
      "2590\n",
      "2625\n",
      "2660\n",
      "2695\n"
     ]
    }
   ],
   "source": [
    "for i in range(1500,2700):\n",
    "    if (i%7==0) and (i%5==0):\n",
    "        print (i)"
   ]
  },
  {
   "cell_type": "markdown",
   "id": "c745fb0c",
   "metadata": {},
   "source": [
    "#### 2. A program to identify the given number as positive or negative"
   ]
  },
  {
   "cell_type": "code",
   "execution_count": 2,
   "id": "07c5a3c2",
   "metadata": {},
   "outputs": [
    {
     "name": "stdout",
     "output_type": "stream",
     "text": [
      "Enter the number : 9\n",
      "9.0 is odd number\n"
     ]
    }
   ],
   "source": [
    "num1= float(input(\"Enter the number : \"))\n",
    "if num1 % 2 ==0:\n",
    "    print (num1,\"is even number\")\n",
    "else : \n",
    "    print (num1,\"is odd number\")"
   ]
  }
 ],
 "metadata": {
  "kernelspec": {
   "display_name": "Python 3",
   "language": "python",
   "name": "python3"
  },
  "language_info": {
   "codemirror_mode": {
    "name": "ipython",
    "version": 3
   },
   "file_extension": ".py",
   "mimetype": "text/x-python",
   "name": "python",
   "nbconvert_exporter": "python",
   "pygments_lexer": "ipython3",
   "version": "3.8.8"
  }
 },
 "nbformat": 4,
 "nbformat_minor": 5
}
