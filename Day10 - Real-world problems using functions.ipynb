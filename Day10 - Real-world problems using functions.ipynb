{
 "cells": [
  {
   "cell_type": "markdown",
   "metadata": {},
   "source": [
    "### Description : This notebook contains user-defined functions few real-world problem statements in Python"
   ]
  },
  {
   "cell_type": "markdown",
   "metadata": {},
   "source": [
    "### Date : 19-09-2021"
   ]
  },
  {
   "cell_type": "markdown",
   "metadata": {},
   "source": [
    "#### 1. Find the maximum number "
   ]
  },
  {
   "cell_type": "code",
   "execution_count": 1,
   "metadata": {},
   "outputs": [
    {
     "name": "stdout",
     "output_type": "stream",
     "text": [
      "Enter the first number : 27\n",
      "Enter the second number : 92\n",
      "92 is maximum\n"
     ]
    }
   ],
   "source": [
    "def maximum (a1,b2):\n",
    "    if num1>num2:\n",
    "        print (num1,\"is maximum\")\n",
    "    else :\n",
    "        print (num2,\"is maximum\")\n",
    "num1= int(input(\"Enter the first number : \"))\n",
    "num2= int(input(\"Enter the second number : \"))\n",
    "maximum(num1,num2)"
   ]
  },
  {
   "cell_type": "markdown",
   "metadata": {},
   "source": [
    "#### 2. Find simple interest on given amount"
   ]
  },
  {
   "cell_type": "code",
   "execution_count": 2,
   "metadata": {},
   "outputs": [
    {
     "name": "stdout",
     "output_type": "stream",
     "text": [
      "Enter the amount: 10000\n",
      "Enter the interest rate : 5\n",
      "Enter the time : 5\n",
      "The simple interest of given amount :  2500.0\n"
     ]
    }
   ],
   "source": [
    "def sim_interest (a2,b2,c2):\n",
    "    interest = (p*r*t)/100\n",
    "    print (\"The simple interest of given amount : \",interest)\n",
    "p= float(input(\"Enter the amount: \"))\n",
    "r= float(input(\"Enter the interest rate : \"))\n",
    "t= float(input(\"Enter the time : \"))\n",
    "sim_interest(p,r,t)"
   ]
  },
  {
   "cell_type": "markdown",
   "metadata": {},
   "source": [
    "#### 3. Find the sum of sqaures of first n(num) natural numbers"
   ]
  },
  {
   "cell_type": "code",
   "execution_count": 3,
   "metadata": {},
   "outputs": [
    {
     "name": "stdout",
     "output_type": "stream",
     "text": [
      "Enter the number : 5\n",
      "55\n"
     ]
    }
   ],
   "source": [
    "def sum_sqr(a):\n",
    "    if num <1:\n",
    "        print (\"Invalid\")\n",
    "    else :\n",
    "        sm=0\n",
    "        for i in range (1,num+1):\n",
    "            sm = sm + (i*i)\n",
    "        print (sm) \n",
    "num= int(input(\"Enter the number : \"))\n",
    "sum_sqr(num)"
   ]
  },
  {
   "cell_type": "markdown",
   "metadata": {},
   "source": [
    "#### 4. Find the sum of cubes of first n(num) natural numbers"
   ]
  },
  {
   "cell_type": "code",
   "execution_count": 4,
   "metadata": {},
   "outputs": [
    {
     "name": "stdout",
     "output_type": "stream",
     "text": [
      "Enter the number : 7\n",
      "784\n"
     ]
    }
   ],
   "source": [
    "def sum_cubes(b):\n",
    "    if number <1:\n",
    "        print (\"Invalid\")\n",
    "    else :\n",
    "        summation=0\n",
    "        for j in range(1,number+1):\n",
    "            summation = summation + (j*j*j)\n",
    "        print (summation)\n",
    "number = int(input(\"Enter the number : \"))\n",
    "sum_cubes(number)"
   ]
  }
 ],
 "metadata": {
  "kernelspec": {
   "display_name": "Python 3",
   "language": "python",
   "name": "python3"
  },
  "language_info": {
   "codemirror_mode": {
    "name": "ipython",
    "version": 3
   },
   "file_extension": ".py",
   "mimetype": "text/x-python",
   "name": "python",
   "nbconvert_exporter": "python",
   "pygments_lexer": "ipython3",
   "version": "3.8.5"
  }
 },
 "nbformat": 4,
 "nbformat_minor": 4
}
