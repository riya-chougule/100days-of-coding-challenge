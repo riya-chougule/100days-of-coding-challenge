{
 "cells": [
  {
   "cell_type": "markdown",
   "id": "99076dcb",
   "metadata": {},
   "source": [
    "### Description : This notebook contains problems related to strings on a platform called codingbat"
   ]
  },
  {
   "cell_type": "markdown",
   "id": "1f883be7",
   "metadata": {},
   "source": [
    "### Date : 30-09-2021"
   ]
  },
  {
   "cell_type": "markdown",
   "id": "933defaa",
   "metadata": {},
   "source": [
    "#### 1. Given a string name, e.g. \"Bob\", return a greeting of the form \"Hello Bob!\"."
   ]
  },
  {
   "cell_type": "code",
   "execution_count": 1,
   "id": "4f79cbb5",
   "metadata": {},
   "outputs": [
    {
     "name": "stdout",
     "output_type": "stream",
     "text": [
      "Martha\n"
     ]
    },
    {
     "data": {
      "text/plain": [
       "'Hello Martha!'"
      ]
     },
     "execution_count": 1,
     "metadata": {},
     "output_type": "execute_result"
    }
   ],
   "source": [
    "name = str(input())\n",
    "def hello_name(name):\n",
    "    return (\"Hello \"+name+\"!\")  \n",
    "hello_name(name)"
   ]
  },
  {
   "cell_type": "markdown",
   "id": "403dc540",
   "metadata": {},
   "source": [
    "#### 2.Given two strings, a and b, return the result of putting them together in the order abba, e.g. \"Hi\" and \"Bye\" returns \"HiByeByeHi\""
   ]
  },
  {
   "cell_type": "code",
   "execution_count": 2,
   "id": "ce5e2ede",
   "metadata": {},
   "outputs": [
    {
     "name": "stdout",
     "output_type": "stream",
     "text": [
      "Hi\n",
      "Victoria\n"
     ]
    },
    {
     "data": {
      "text/plain": [
       "'HiVictoriaVictoriaHi'"
      ]
     },
     "execution_count": 2,
     "metadata": {},
     "output_type": "execute_result"
    }
   ],
   "source": [
    "m = str(input())\n",
    "n = str(input())\n",
    "def make_abba(m, n):\n",
    "    return (m+n+n+m)\n",
    "make_abba(m,n)"
   ]
  },
  {
   "cell_type": "markdown",
   "id": "82539fad",
   "metadata": {},
   "source": [
    "#### 3.  The web is built with HTML strings like \"<i>Yay</i>\" which draws Yay as italic text. In this example, the \"i\" tag makes <i> and </i> which surround the word \"Yay\". Given tag and word strings, create the HTML string with tags around the word, e.g. \"<i>Yay</i>\"."
   ]
  },
  {
   "cell_type": "code",
   "execution_count": 3,
   "id": "fe671aa6",
   "metadata": {},
   "outputs": [],
   "source": [
    "def make_tags(tag, word):\n",
    "    return \"<\"+tag+\">\"+word+\"</\"+tag+\">\""
   ]
  },
  {
   "cell_type": "markdown",
   "id": "b7d568b5",
   "metadata": {},
   "source": [
    "#### 4. Given an \"out\" string length 4, such as \"<<>>\", and a word, return a new string where the word is in the middle of the out string, e.g. \"<<word>>\"."
   ]
  },
  {
   "cell_type": "code",
   "execution_count": 4,
   "id": "ad2abdc1",
   "metadata": {},
   "outputs": [],
   "source": [
    "def make_out_word(out, word):\n",
    "    return out[:2]+word+out[2:]"
   ]
  },
  {
   "cell_type": "markdown",
   "id": "5ecdfb92",
   "metadata": {},
   "source": [
    "#### 5. Given a string, return a new string made of 3 copies of the last 2 chars of the original string. The string length will be at least 2."
   ]
  },
  {
   "cell_type": "code",
   "execution_count": 5,
   "id": "1f990196",
   "metadata": {},
   "outputs": [
    {
     "name": "stdout",
     "output_type": "stream",
     "text": [
      "Myra\n"
     ]
    },
    {
     "data": {
      "text/plain": [
       "'rarara'"
      ]
     },
     "execution_count": 5,
     "metadata": {},
     "output_type": "execute_result"
    }
   ],
   "source": [
    "m = str(input())\n",
    "def extra_end(m):\n",
    "    return 3 * (m[-2:])\n",
    "extra_end(m)"
   ]
  },
  {
   "cell_type": "markdown",
   "id": "2a4f20c9",
   "metadata": {},
   "source": [
    "#### 6. Given a string, return the string made of its first two chars, so the String \"Hello\" yields \"He\". If the string is shorter than length 2, return whatever there is, so \"X\" yields \"X\", and the empty string \"\" yields the empty string \"\""
   ]
  },
  {
   "cell_type": "code",
   "execution_count": 6,
   "id": "5dfb6077",
   "metadata": {},
   "outputs": [
    {
     "name": "stdout",
     "output_type": "stream",
     "text": [
      "Amazing\n"
     ]
    },
    {
     "data": {
      "text/plain": [
       "'Am'"
      ]
     },
     "execution_count": 6,
     "metadata": {},
     "output_type": "execute_result"
    }
   ],
   "source": [
    "str = str(input())\n",
    "def first_two(str):\n",
    "    return str[:2]\n",
    "first_two(str)"
   ]
  },
  {
   "cell_type": "markdown",
   "id": "6246b916",
   "metadata": {},
   "source": [
    "#### 7. Given a string, return a version without the first and last char, so \"Hello\" yields \"ell\". The string length will be at least 2."
   ]
  },
  {
   "cell_type": "code",
   "execution_count": 1,
   "id": "e667295e",
   "metadata": {},
   "outputs": [
    {
     "name": "stdout",
     "output_type": "stream",
     "text": [
      "Python\n"
     ]
    },
    {
     "data": {
      "text/plain": [
       "'ytho'"
      ]
     },
     "execution_count": 1,
     "metadata": {},
     "output_type": "execute_result"
    }
   ],
   "source": [
    "str2 = str(input())\n",
    "def without_end(str2):\n",
    "    return str2[1:-1]\n",
    "without_end(str2)"
   ]
  },
  {
   "cell_type": "markdown",
   "id": "b61fb215",
   "metadata": {},
   "source": [
    "#### 8. Given 2 strings, a and b, return a string of the form short+long+short, with the shorter string on the outside and the longer string on the inside. The strings will not be the same length, but they may be empty (length 0)."
   ]
  },
  {
   "cell_type": "code",
   "execution_count": 3,
   "id": "904494f4",
   "metadata": {},
   "outputs": [
    {
     "name": "stdout",
     "output_type": "stream",
     "text": [
      "Hey\n",
      "Jo\n"
     ]
    },
    {
     "data": {
      "text/plain": [
       "'JoHeyJo'"
      ]
     },
     "execution_count": 3,
     "metadata": {},
     "output_type": "execute_result"
    }
   ],
   "source": [
    "a = str(input())\n",
    "b = str(input())\n",
    "def combo_string(a, b):\n",
    "    if len(a)<len(b):\n",
    "        return a+b+a\n",
    "    else:\n",
    "        return b+a+b\n",
    "combo_string(a,b)"
   ]
  }
 ],
 "metadata": {
  "kernelspec": {
   "display_name": "Python 3",
   "language": "python",
   "name": "python3"
  },
  "language_info": {
   "codemirror_mode": {
    "name": "ipython",
    "version": 3
   },
   "file_extension": ".py",
   "mimetype": "text/x-python",
   "name": "python",
   "nbconvert_exporter": "python",
   "pygments_lexer": "ipython3",
   "version": "3.8.8"
  }
 },
 "nbformat": 4,
 "nbformat_minor": 5
}
