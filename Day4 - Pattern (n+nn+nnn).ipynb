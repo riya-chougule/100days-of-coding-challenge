{
 "cells": [
  {
   "cell_type": "markdown",
   "id": "912acb77",
   "metadata": {},
   "source": [
    "### Description : This notebook includes a user defined function which accepts an integer (n) and returns (n+nn+nnn) as the result"
   ]
  },
  {
   "cell_type": "markdown",
   "id": "fd75e2d1",
   "metadata": {},
   "source": [
    "### Date 13-09-2021"
   ]
  },
  {
   "cell_type": "code",
   "execution_count": 1,
   "id": "64707006",
   "metadata": {},
   "outputs": [
    {
     "name": "stdout",
     "output_type": "stream",
     "text": [
      "Enter the number : 5\n",
      "The answer :  615\n"
     ]
    }
   ],
   "source": [
    "def function (a):\n",
    "    n1= int (\"%s\" % a)\n",
    "    n2=int(\"%s%s\"% (a,a))\n",
    "    n3=int(\"%s%s%s\" % (a,a,a))\n",
    "    n=n1+n2+n3\n",
    "    print (\"The answer : \",n)\n",
    "a= int(input(\"Enter the number : \"))\n",
    "function (a)       "
   ]
  }
 ],
 "metadata": {
  "kernelspec": {
   "display_name": "Python 3",
   "language": "python",
   "name": "python3"
  },
  "language_info": {
   "codemirror_mode": {
    "name": "ipython",
    "version": 3
   },
   "file_extension": ".py",
   "mimetype": "text/x-python",
   "name": "python",
   "nbconvert_exporter": "python",
   "pygments_lexer": "ipython3",
   "version": "3.8.8"
  }
 },
 "nbformat": 4,
 "nbformat_minor": 5
}
