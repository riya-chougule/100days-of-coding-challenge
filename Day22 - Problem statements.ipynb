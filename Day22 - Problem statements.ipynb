{
 "cells": [
  {
   "cell_type": "markdown",
   "id": "cb38534d",
   "metadata": {},
   "source": [
    "### Description : In this Python notebook, I have implemented the problems provided on practicepython.org"
   ]
  },
  {
   "cell_type": "markdown",
   "id": "99add135",
   "metadata": {},
   "source": [
    "### Date : 1-10-2021"
   ]
  },
  {
   "cell_type": "markdown",
   "id": "74abb27a",
   "metadata": {},
   "source": [
    "#### 1. Take a list, say for example this one: a = [1, 1, 2, 3, 5, 8, 13, 21, 34, 55, 89] and write a program that prints out all the elements of the list that are less than 5."
   ]
  },
  {
   "cell_type": "code",
   "execution_count": 1,
   "id": "bf10a6aa",
   "metadata": {},
   "outputs": [],
   "source": [
    "a = [1, 1, 2, 3, 5, 8, 13, 21, 34, 55, 89] "
   ]
  },
  {
   "cell_type": "code",
   "execution_count": 2,
   "id": "ea74b3dd",
   "metadata": {},
   "outputs": [
    {
     "name": "stdout",
     "output_type": "stream",
     "text": [
      "1\n",
      "1\n",
      "2\n",
      "3\n"
     ]
    }
   ],
   "source": [
    "for numbers in a: \n",
    "    if numbers <5:\n",
    "        print(numbers)"
   ]
  },
  {
   "cell_type": "markdown",
   "id": "5ae52193",
   "metadata": {},
   "source": [
    "#### 2. Ask the user for a number. Depending on whether the number is even or odd, print out an appropriate message to the user. Hint: how does an even / odd number react differently when divided by 2?"
   ]
  },
  {
   "cell_type": "code",
   "execution_count": 3,
   "id": "01e3198a",
   "metadata": {},
   "outputs": [
    {
     "name": "stdout",
     "output_type": "stream",
     "text": [
      "Enter the number : 7\n",
      "7.0 is odd number\n"
     ]
    }
   ],
   "source": [
    "num = float(input(\"Enter the number : \"))\n",
    "if num%2==0:\n",
    "    print (num,\"is even number\")\n",
    "else :\n",
    "    print (num,\"is odd number\")"
   ]
  },
  {
   "cell_type": "markdown",
   "id": "d8b2d349",
   "metadata": {},
   "source": [
    "#### 3. Convert the given celsius temperature into fahrenheit"
   ]
  },
  {
   "cell_type": "code",
   "execution_count": 4,
   "id": "052637b7",
   "metadata": {},
   "outputs": [
    {
     "name": "stdout",
     "output_type": "stream",
     "text": [
      "Enter the temperature : 4\n",
      "The temperature in fahrenheit is :  39.2\n"
     ]
    }
   ],
   "source": [
    "temp = float(input(\"Enter the temperature : \"))\n",
    "temp_ft = temp*9/5+32\n",
    "print (\"The temperature in fahrenheit is : \",temp_ft)"
   ]
  },
  {
   "cell_type": "markdown",
   "id": "e1f77856",
   "metadata": {},
   "source": [
    "#### 4. Convert hours into seconds"
   ]
  },
  {
   "cell_type": "code",
   "execution_count": 5,
   "id": "866f6e6a",
   "metadata": {},
   "outputs": [
    {
     "name": "stdout",
     "output_type": "stream",
     "text": [
      "Enter the hours : 5\n",
      "The minutes in 5.0 hour are :  300.0\n"
     ]
    }
   ],
   "source": [
    "hour = float(input(\"Enter the hours : \"))\n",
    "min = hour * 60\n",
    "print (\"The minutes in\",hour,\"hour are : \",min)"
   ]
  }
 ],
 "metadata": {
  "kernelspec": {
   "display_name": "Python 3",
   "language": "python",
   "name": "python3"
  },
  "language_info": {
   "codemirror_mode": {
    "name": "ipython",
    "version": 3
   },
   "file_extension": ".py",
   "mimetype": "text/x-python",
   "name": "python",
   "nbconvert_exporter": "python",
   "pygments_lexer": "ipython3",
   "version": "3.8.8"
  }
 },
 "nbformat": 4,
 "nbformat_minor": 5
}
