{
 "cells": [
  {
   "cell_type": "markdown",
   "id": "82926cde",
   "metadata": {},
   "source": [
    "### Description : This notebook includes Python tuple operations"
   ]
  },
  {
   "cell_type": "markdown",
   "id": "ce9c0767",
   "metadata": {},
   "source": [
    "### Date : 25-09-2021"
   ]
  },
  {
   "cell_type": "code",
   "execution_count": 1,
   "id": "4511b43a",
   "metadata": {},
   "outputs": [],
   "source": [
    "tuple1 = ('Coco','Rehan',46,'Hruta',82,'Jatin',39,'Taniya')"
   ]
  },
  {
   "cell_type": "code",
   "execution_count": 2,
   "id": "96344279",
   "metadata": {},
   "outputs": [
    {
     "data": {
      "text/plain": [
       "('Coco', 'Rehan', 46, 'Hruta', 82, 'Jatin', 39, 'Taniya')"
      ]
     },
     "execution_count": 2,
     "metadata": {},
     "output_type": "execute_result"
    }
   ],
   "source": [
    "tuple1"
   ]
  },
  {
   "cell_type": "markdown",
   "id": "f8ae27b6",
   "metadata": {},
   "source": [
    "#### Access tuple elements"
   ]
  },
  {
   "cell_type": "code",
   "execution_count": 3,
   "id": "4767227d",
   "metadata": {},
   "outputs": [
    {
     "data": {
      "text/plain": [
       "'Hruta'"
      ]
     },
     "execution_count": 3,
     "metadata": {},
     "output_type": "execute_result"
    }
   ],
   "source": [
    "tuple1[3]"
   ]
  },
  {
   "cell_type": "code",
   "execution_count": 4,
   "id": "9caa9c15",
   "metadata": {},
   "outputs": [
    {
     "data": {
      "text/plain": [
       "'Jatin'"
      ]
     },
     "execution_count": 4,
     "metadata": {},
     "output_type": "execute_result"
    }
   ],
   "source": [
    "tuple1[5]"
   ]
  },
  {
   "cell_type": "code",
   "execution_count": 5,
   "id": "b36a23ee",
   "metadata": {},
   "outputs": [
    {
     "data": {
      "text/plain": [
       "'Taniya'"
      ]
     },
     "execution_count": 5,
     "metadata": {},
     "output_type": "execute_result"
    }
   ],
   "source": [
    "tuple1[-1]"
   ]
  },
  {
   "cell_type": "code",
   "execution_count": 6,
   "id": "889fe70d",
   "metadata": {},
   "outputs": [
    {
     "data": {
      "text/plain": [
       "(46, 'Hruta', 82)"
      ]
     },
     "execution_count": 6,
     "metadata": {},
     "output_type": "execute_result"
    }
   ],
   "source": [
    "tuple1[2:5]"
   ]
  },
  {
   "cell_type": "code",
   "execution_count": 7,
   "id": "39f16516",
   "metadata": {},
   "outputs": [
    {
     "data": {
      "text/plain": [
       "(82, 'Jatin', 39, 'Taniya')"
      ]
     },
     "execution_count": 7,
     "metadata": {},
     "output_type": "execute_result"
    }
   ],
   "source": [
    "tuple1[4:]"
   ]
  },
  {
   "cell_type": "markdown",
   "id": "6f7e38b1",
   "metadata": {},
   "source": [
    "#### Update tuple elements (To update the tuple elements, convert the tuple to list first)"
   ]
  },
  {
   "cell_type": "code",
   "execution_count": 8,
   "id": "210873ef",
   "metadata": {},
   "outputs": [
    {
     "data": {
      "text/plain": [
       "('Coco', 'Rehan', 46, 'Kiara', 82, 'Jatin', 39, 'Taniya')"
      ]
     },
     "execution_count": 8,
     "metadata": {},
     "output_type": "execute_result"
    }
   ],
   "source": [
    "x = list(tuple1)\n",
    "x[3] = 'Kiara'\n",
    "tuple1 = tuple(x)\n",
    "tuple1"
   ]
  },
  {
   "cell_type": "markdown",
   "id": "57cb8f7c",
   "metadata": {},
   "source": [
    "#### Loops in tuple"
   ]
  },
  {
   "cell_type": "code",
   "execution_count": 9,
   "id": "3d698da5",
   "metadata": {},
   "outputs": [
    {
     "name": "stdout",
     "output_type": "stream",
     "text": [
      "Coco\n",
      "Rehan\n",
      "46\n",
      "Kiara\n",
      "82\n",
      "Jatin\n",
      "39\n",
      "Taniya\n"
     ]
    }
   ],
   "source": [
    "for i in range(len(tuple1)):\n",
    "    print (tuple1[i])"
   ]
  }
 ],
 "metadata": {
  "kernelspec": {
   "display_name": "Python 3",
   "language": "python",
   "name": "python3"
  },
  "language_info": {
   "codemirror_mode": {
    "name": "ipython",
    "version": 3
   },
   "file_extension": ".py",
   "mimetype": "text/x-python",
   "name": "python",
   "nbconvert_exporter": "python",
   "pygments_lexer": "ipython3",
   "version": "3.8.8"
  }
 },
 "nbformat": 4,
 "nbformat_minor": 5
}
