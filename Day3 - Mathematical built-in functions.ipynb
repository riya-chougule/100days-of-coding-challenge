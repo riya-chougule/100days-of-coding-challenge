{
 "cells": [
  {
   "cell_type": "markdown",
   "id": "5f823236",
   "metadata": {},
   "source": [
    "### Description : This notebook contains few  mathematical built-in functions"
   ]
  },
  {
   "cell_type": "markdown",
   "id": "e7dc29eb",
   "metadata": {},
   "source": [
    "### Date : 12-09-2021"
   ]
  },
  {
   "cell_type": "code",
   "execution_count": 1,
   "id": "e0f341f4",
   "metadata": {},
   "outputs": [],
   "source": [
    "import math\n",
    "import numpy as np"
   ]
  },
  {
   "cell_type": "markdown",
   "id": "7dbc018a",
   "metadata": {},
   "source": [
    "#### Square"
   ]
  },
  {
   "cell_type": "code",
   "execution_count": 2,
   "id": "ed826baf",
   "metadata": {},
   "outputs": [
    {
     "name": "stdout",
     "output_type": "stream",
     "text": [
      "Enter the number : 6\n",
      "The square of number is :  36\n"
     ]
    }
   ],
   "source": [
    "num = int(input(\"Enter the number : \"))\n",
    "num_sqr= num * num\n",
    "print (\"The square of number is : \",num_sqr)"
   ]
  },
  {
   "cell_type": "markdown",
   "id": "91cf44fe",
   "metadata": {},
   "source": [
    "#### Square root"
   ]
  },
  {
   "cell_type": "code",
   "execution_count": 3,
   "id": "f0a19f40",
   "metadata": {},
   "outputs": [
    {
     "name": "stdout",
     "output_type": "stream",
     "text": [
      "Enter the number : 64\n",
      "The square root of the number :  8.0\n"
     ]
    }
   ],
   "source": [
    "num1 = int(input(\"Enter the number : \"))\n",
    "num_sqrt = math.pow(num1,0.5)\n",
    "print (\"The square root of the number : \", num_sqrt)"
   ]
  },
  {
   "cell_type": "code",
   "execution_count": 4,
   "id": "24b8dc6d",
   "metadata": {},
   "outputs": [
    {
     "name": "stdout",
     "output_type": "stream",
     "text": [
      "Enter the number : 81\n",
      "The square root of the number :  9.0\n"
     ]
    }
   ],
   "source": [
    "nu1 = int(input(\"Enter the number : \"))\n",
    "nu_sqrt = math.sqrt(nu1)\n",
    "print (\"The square root of the number : \", nu_sqrt)"
   ]
  },
  {
   "cell_type": "markdown",
   "id": "928088e4",
   "metadata": {},
   "source": [
    "#### Cube"
   ]
  },
  {
   "cell_type": "code",
   "execution_count": 5,
   "id": "3c6d57ed",
   "metadata": {},
   "outputs": [
    {
     "name": "stdout",
     "output_type": "stream",
     "text": [
      "Enter the number : 5\n",
      "Cube of the number :  125\n"
     ]
    }
   ],
   "source": [
    "x = int(input(\"Enter the number : \"))\n",
    "x_c = x*x*x\n",
    "print (\"Cube of the number : \",x_c)"
   ]
  },
  {
   "cell_type": "markdown",
   "id": "e97dc1b2",
   "metadata": {},
   "source": [
    "#### Cube root"
   ]
  },
  {
   "cell_type": "code",
   "execution_count": 6,
   "id": "e4d522e2",
   "metadata": {},
   "outputs": [
    {
     "name": "stdout",
     "output_type": "stream",
     "text": [
      "Enter the number : 729\n",
      "8.999999999999998\n"
     ]
    }
   ],
   "source": [
    "x1 = int(input(\"Enter the number : \"))\n",
    "x1_cr = x1 ** (1./3.)\n",
    "print(x1_cr)"
   ]
  },
  {
   "cell_type": "code",
   "execution_count": 7,
   "id": "61357fbe",
   "metadata": {},
   "outputs": [
    {
     "name": "stdout",
     "output_type": "stream",
     "text": [
      "Enter the number : 729\n",
      "9.0\n"
     ]
    }
   ],
   "source": [
    "x2 = int(input(\"Enter the number : \"))\n",
    "x2_cr = np.cbrt(x2)\n",
    "print(x2_cr)"
   ]
  },
  {
   "cell_type": "code",
   "execution_count": 8,
   "id": "d9b2f63a",
   "metadata": {},
   "outputs": [
    {
     "name": "stdout",
     "output_type": "stream",
     "text": [
      "[3. 5. 7. 9.]\n"
     ]
    }
   ],
   "source": [
    "array = [27,125,343,729]\n",
    "array_cbrt = np.cbrt (array)\n",
    "print (array_cbrt)"
   ]
  },
  {
   "cell_type": "markdown",
   "id": "0730d38c",
   "metadata": {},
   "source": [
    "#### Ceil function"
   ]
  },
  {
   "cell_type": "code",
   "execution_count": 9,
   "id": "93efddfd",
   "metadata": {},
   "outputs": [
    {
     "data": {
      "text/plain": [
       "7"
      ]
     },
     "execution_count": 9,
     "metadata": {},
     "output_type": "execute_result"
    }
   ],
   "source": [
    "a= 6.2\n",
    "b=math.ceil(a)\n",
    "b"
   ]
  },
  {
   "cell_type": "markdown",
   "id": "bf529cbe",
   "metadata": {},
   "source": [
    "#### Floor function"
   ]
  },
  {
   "cell_type": "code",
   "execution_count": 10,
   "id": "35358f8c",
   "metadata": {},
   "outputs": [
    {
     "data": {
      "text/plain": [
       "6"
      ]
     },
     "execution_count": 10,
     "metadata": {},
     "output_type": "execute_result"
    }
   ],
   "source": [
    "p=6.2\n",
    "q=math.floor(p)\n",
    "q"
   ]
  },
  {
   "cell_type": "markdown",
   "id": "83e7512a",
   "metadata": {},
   "source": [
    "#### Factorial function"
   ]
  },
  {
   "cell_type": "code",
   "execution_count": 11,
   "id": "ea6957cf",
   "metadata": {},
   "outputs": [
    {
     "name": "stdout",
     "output_type": "stream",
     "text": [
      "120\n"
     ]
    }
   ],
   "source": [
    "w = 5\n",
    "print(math.factorial(w))"
   ]
  },
  {
   "cell_type": "markdown",
   "id": "1de4a52f",
   "metadata": {},
   "source": [
    "#### Absolute function"
   ]
  },
  {
   "cell_type": "code",
   "execution_count": 12,
   "id": "a8d96e19",
   "metadata": {},
   "outputs": [
    {
     "data": {
      "text/plain": [
       "5.28"
      ]
     },
     "execution_count": 12,
     "metadata": {},
     "output_type": "execute_result"
    }
   ],
   "source": [
    "t= -5.28\n",
    "abs(t)"
   ]
  }
 ],
 "metadata": {
  "kernelspec": {
   "display_name": "Python 3",
   "language": "python",
   "name": "python3"
  },
  "language_info": {
   "codemirror_mode": {
    "name": "ipython",
    "version": 3
   },
   "file_extension": ".py",
   "mimetype": "text/x-python",
   "name": "python",
   "nbconvert_exporter": "python",
   "pygments_lexer": "ipython3",
   "version": "3.8.8"
  }
 },
 "nbformat": 4,
 "nbformat_minor": 5
}
