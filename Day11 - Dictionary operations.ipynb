{
 "cells": [
  {
   "cell_type": "markdown",
   "id": "9fd39dd0",
   "metadata": {},
   "source": [
    "### Description : In this notebook, I have implemented some of the operations of dictionaries"
   ]
  },
  {
   "cell_type": "markdown",
   "id": "19a199e7",
   "metadata": {},
   "source": [
    "### Date :20-09-2021"
   ]
  },
  {
   "cell_type": "code",
   "execution_count": 1,
   "id": "787908f8",
   "metadata": {},
   "outputs": [],
   "source": [
    "dict1 = {1:'Coco',2:'Harsh',3:'Nyra',4:'Mayank',5:'Parineeti',6:'Garvit',7:'Latika',8:'Rehan'}"
   ]
  },
  {
   "cell_type": "code",
   "execution_count": 2,
   "id": "95d5c897",
   "metadata": {},
   "outputs": [
    {
     "data": {
      "text/plain": [
       "{1: 'Coco',\n",
       " 2: 'Harsh',\n",
       " 3: 'Nyra',\n",
       " 4: 'Mayank',\n",
       " 5: 'Parineeti',\n",
       " 6: 'Garvit',\n",
       " 7: 'Latika',\n",
       " 8: 'Rehan'}"
      ]
     },
     "execution_count": 2,
     "metadata": {},
     "output_type": "execute_result"
    }
   ],
   "source": [
    "dict1"
   ]
  },
  {
   "cell_type": "code",
   "execution_count": 3,
   "id": "0ec50e4c",
   "metadata": {},
   "outputs": [
    {
     "data": {
      "text/plain": [
       "dict_keys([1, 2, 3, 4, 5, 6, 7, 8])"
      ]
     },
     "execution_count": 3,
     "metadata": {},
     "output_type": "execute_result"
    }
   ],
   "source": [
    "dict1.keys()"
   ]
  },
  {
   "cell_type": "code",
   "execution_count": 4,
   "id": "aef75618",
   "metadata": {},
   "outputs": [
    {
     "data": {
      "text/plain": [
       "dict_values(['Coco', 'Harsh', 'Nyra', 'Mayank', 'Parineeti', 'Garvit', 'Latika', 'Rehan'])"
      ]
     },
     "execution_count": 4,
     "metadata": {},
     "output_type": "execute_result"
    }
   ],
   "source": [
    "dict1.values()"
   ]
  },
  {
   "cell_type": "markdown",
   "id": "851f8a0c",
   "metadata": {},
   "source": [
    "#### Accessing the dictionary elements"
   ]
  },
  {
   "cell_type": "code",
   "execution_count": 5,
   "id": "f1855fa4",
   "metadata": {},
   "outputs": [
    {
     "data": {
      "text/plain": [
       "'Nyra'"
      ]
     },
     "execution_count": 5,
     "metadata": {},
     "output_type": "execute_result"
    }
   ],
   "source": [
    "dict1[3]"
   ]
  },
  {
   "cell_type": "code",
   "execution_count": 6,
   "id": "86167d59",
   "metadata": {},
   "outputs": [
    {
     "name": "stdout",
     "output_type": "stream",
     "text": [
      "Latika\n"
     ]
    }
   ],
   "source": [
    "print (dict1.get(7))"
   ]
  },
  {
   "cell_type": "markdown",
   "id": "e5d40086",
   "metadata": {},
   "source": [
    "#### Adding new elements to dictionary"
   ]
  },
  {
   "cell_type": "code",
   "execution_count": 7,
   "id": "a108f03a",
   "metadata": {},
   "outputs": [
    {
     "data": {
      "text/plain": [
       "{1: 'Coco',\n",
       " 2: 'Harsh',\n",
       " 3: 'Nyra',\n",
       " 4: 'Mayank',\n",
       " 5: 'Parineeti',\n",
       " 6: 'Garvit',\n",
       " 7: 'Latika',\n",
       " 8: 'Rehan',\n",
       " 9: 'Saniya',\n",
       " 10: 'Tanishq'}"
      ]
     },
     "execution_count": 7,
     "metadata": {},
     "output_type": "execute_result"
    }
   ],
   "source": [
    "dict1[9]='Saniya'\n",
    "dict1[10]='Tanishq'\n",
    "dict1"
   ]
  },
  {
   "cell_type": "markdown",
   "id": "8579b2c8",
   "metadata": {},
   "source": [
    "#### Updating the dictionary"
   ]
  },
  {
   "cell_type": "code",
   "execution_count": 8,
   "id": "1f684fb5",
   "metadata": {},
   "outputs": [],
   "source": [
    "dict1[5] = 'Priyanka'"
   ]
  },
  {
   "cell_type": "code",
   "execution_count": 9,
   "id": "39db7c37",
   "metadata": {},
   "outputs": [],
   "source": [
    "dict1[8]= 'Neil'"
   ]
  },
  {
   "cell_type": "code",
   "execution_count": 10,
   "id": "23349091",
   "metadata": {},
   "outputs": [
    {
     "data": {
      "text/plain": [
       "{1: 'Coco',\n",
       " 2: 'Harsh',\n",
       " 3: 'Nyra',\n",
       " 4: 'Mayank',\n",
       " 5: 'Priyanka',\n",
       " 6: 'Garvit',\n",
       " 7: 'Latika',\n",
       " 8: 'Neil',\n",
       " 9: 'Saniya',\n",
       " 10: 'Tanishq'}"
      ]
     },
     "execution_count": 10,
     "metadata": {},
     "output_type": "execute_result"
    }
   ],
   "source": [
    "dict1"
   ]
  },
  {
   "cell_type": "markdown",
   "id": "7516414e",
   "metadata": {},
   "source": [
    "#### Deleting the dictionary elements"
   ]
  },
  {
   "cell_type": "code",
   "execution_count": 11,
   "id": "3307f43c",
   "metadata": {},
   "outputs": [
    {
     "data": {
      "text/plain": [
       "{1: 'Coco',\n",
       " 2: 'Harsh',\n",
       " 3: 'Nyra',\n",
       " 5: 'Priyanka',\n",
       " 6: 'Garvit',\n",
       " 7: 'Latika',\n",
       " 8: 'Neil',\n",
       " 9: 'Saniya',\n",
       " 10: 'Tanishq'}"
      ]
     },
     "execution_count": 11,
     "metadata": {},
     "output_type": "execute_result"
    }
   ],
   "source": [
    "dict1.pop(4)\n",
    "dict1"
   ]
  },
  {
   "cell_type": "markdown",
   "id": "36e3d2ec",
   "metadata": {},
   "source": [
    "#### Popitem() just eliminates the last element"
   ]
  },
  {
   "cell_type": "code",
   "execution_count": 12,
   "id": "65c92803",
   "metadata": {},
   "outputs": [
    {
     "data": {
      "text/plain": [
       "{1: 'Coco',\n",
       " 2: 'Harsh',\n",
       " 3: 'Nyra',\n",
       " 5: 'Priyanka',\n",
       " 6: 'Garvit',\n",
       " 7: 'Latika',\n",
       " 8: 'Neil',\n",
       " 9: 'Saniya'}"
      ]
     },
     "execution_count": 12,
     "metadata": {},
     "output_type": "execute_result"
    }
   ],
   "source": [
    "dict1.popitem()\n",
    "dict1"
   ]
  },
  {
   "cell_type": "markdown",
   "id": "21fd9791",
   "metadata": {},
   "source": [
    "#### Clear () deletes the entire dictionary"
   ]
  },
  {
   "cell_type": "code",
   "execution_count": 13,
   "id": "0cab1ffd",
   "metadata": {},
   "outputs": [
    {
     "data": {
      "text/plain": [
       "{'Name': 'Riya',\n",
       " 'Age': 22,\n",
       " 'City': 'Sangli',\n",
       " 'Country': 'India',\n",
       " 'Contact no.': 8208284757,\n",
       " 'Degree': 'Engineering'}"
      ]
     },
     "execution_count": 13,
     "metadata": {},
     "output_type": "execute_result"
    }
   ],
   "source": [
    "tmp_dict = {'Name':'Riya','Age':22,'City':'Sangli','Country':'India','Contact no.':8208284757,'Degree':'Engineering'}\n",
    "tmp_dict"
   ]
  },
  {
   "cell_type": "code",
   "execution_count": 14,
   "id": "02b0257b",
   "metadata": {},
   "outputs": [
    {
     "data": {
      "text/plain": [
       "{}"
      ]
     },
     "execution_count": 14,
     "metadata": {},
     "output_type": "execute_result"
    }
   ],
   "source": [
    "tmp_dict.clear()\n",
    "tmp_dict"
   ]
  },
  {
   "cell_type": "code",
   "execution_count": 15,
   "id": "027bc98f",
   "metadata": {},
   "outputs": [
    {
     "data": {
      "text/plain": [
       "{'L': None, 'a': None, 't': None, 'i': None, 'k': None}"
      ]
     },
     "execution_count": 15,
     "metadata": {},
     "output_type": "execute_result"
    }
   ],
   "source": [
    "dict1.fromkeys('Latika')"
   ]
  }
 ],
 "metadata": {
  "kernelspec": {
   "display_name": "Python 3",
   "language": "python",
   "name": "python3"
  },
  "language_info": {
   "codemirror_mode": {
    "name": "ipython",
    "version": 3
   },
   "file_extension": ".py",
   "mimetype": "text/x-python",
   "name": "python",
   "nbconvert_exporter": "python",
   "pygments_lexer": "ipython3",
   "version": "3.8.8"
  }
 },
 "nbformat": 4,
 "nbformat_minor": 5
}
