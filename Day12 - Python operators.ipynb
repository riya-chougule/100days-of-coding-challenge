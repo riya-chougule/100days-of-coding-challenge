{
 "cells": [
  {
   "cell_type": "markdown",
   "id": "7c2feff8",
   "metadata": {},
   "source": [
    "### Description : In this notebook, I have implemented all the types of python operators"
   ]
  },
  {
   "cell_type": "markdown",
   "id": "8cc75aa8",
   "metadata": {},
   "source": [
    "### Date : 21-09-2021"
   ]
  },
  {
   "cell_type": "markdown",
   "id": "da732286",
   "metadata": {},
   "source": [
    "#### 1. Arithmetic operators"
   ]
  },
  {
   "cell_type": "code",
   "execution_count": 1,
   "id": "b5e76f11",
   "metadata": {},
   "outputs": [
    {
     "name": "stdout",
     "output_type": "stream",
     "text": [
      "Enter the first number : 10\n",
      "Enter the second number : 5\n"
     ]
    }
   ],
   "source": [
    "x = float(input(\"Enter the first number : \"))\n",
    "y = float(input(\"Enter the second number : \"))"
   ]
  },
  {
   "cell_type": "code",
   "execution_count": 2,
   "id": "a86d74cc",
   "metadata": {},
   "outputs": [
    {
     "name": "stdout",
     "output_type": "stream",
     "text": [
      "15.0\n",
      "5.0\n"
     ]
    }
   ],
   "source": [
    "# Addition \n",
    "print (x+y)\n",
    "# Subtraction\n",
    "print (x-y)"
   ]
  },
  {
   "cell_type": "code",
   "execution_count": 3,
   "id": "9df03aed",
   "metadata": {},
   "outputs": [
    {
     "name": "stdout",
     "output_type": "stream",
     "text": [
      "50.0\n",
      "2.0\n"
     ]
    }
   ],
   "source": [
    "# Multiplication\n",
    "print (x*y)\n",
    "# Division\n",
    "print (x/y)"
   ]
  },
  {
   "cell_type": "code",
   "execution_count": 4,
   "id": "82036a6d",
   "metadata": {},
   "outputs": [
    {
     "name": "stdout",
     "output_type": "stream",
     "text": [
      "2.0\n",
      "0.0\n",
      "100000.0\n"
     ]
    }
   ],
   "source": [
    "# Floor divison\n",
    "print (x//y)\n",
    "# Modulus\n",
    "print (x%y)\n",
    "# Exponent \n",
    "print (x**y)"
   ]
  },
  {
   "cell_type": "markdown",
   "id": "545e28a3",
   "metadata": {},
   "source": [
    "#### 2. Comparison operators"
   ]
  },
  {
   "cell_type": "code",
   "execution_count": 5,
   "id": "34f3ac95",
   "metadata": {},
   "outputs": [
    {
     "name": "stdout",
     "output_type": "stream",
     "text": [
      "10.0 is greater than 5.0\n"
     ]
    }
   ],
   "source": [
    "if x > y:                               # Greater than operator\n",
    "    print (x,\"is greater than\",y)\n",
    "elif x <y:                              # Less than operator\n",
    "    print (y,\"is greater than\",x)"
   ]
  },
  {
   "cell_type": "code",
   "execution_count": 6,
   "id": "8413dada",
   "metadata": {},
   "outputs": [
    {
     "name": "stdout",
     "output_type": "stream",
     "text": [
      "10.0 and 5.0 are not equal\n"
     ]
    }
   ],
   "source": [
    "if x==y:                                # Equal to operator\n",
    "    print (x,\"and\",y,\"are equal\")\n",
    "elif x != y:                            # Not equal to operator\n",
    "    print (x,\"and\",y,\"are not equal\")"
   ]
  },
  {
   "cell_type": "markdown",
   "id": "3da958bf",
   "metadata": {},
   "source": [
    "#### 3. Logical operators"
   ]
  },
  {
   "cell_type": "code",
   "execution_count": 7,
   "id": "aa0f1d7f",
   "metadata": {},
   "outputs": [
    {
     "name": "stdout",
     "output_type": "stream",
     "text": [
      "False\n",
      "True\n",
      "False\n",
      "True\n"
     ]
    }
   ],
   "source": [
    "a = True\n",
    "b = False\n",
    "\n",
    "print (a and b)                         # AND operator\n",
    "print (a or b)                          # OR operator\n",
    "print (not a)                           # NOT operator\n",
    "print (not b) "
   ]
  },
  {
   "cell_type": "markdown",
   "id": "d59d6ffc",
   "metadata": {},
   "source": [
    "#### 4. Bitwise operators"
   ]
  },
  {
   "cell_type": "code",
   "execution_count": 8,
   "id": "f34a09e5",
   "metadata": {},
   "outputs": [
    {
     "data": {
      "text/plain": [
       "False"
      ]
     },
     "execution_count": 8,
     "metadata": {},
     "output_type": "execute_result"
    }
   ],
   "source": [
    "a & b                                   # Bitwise AND operator"
   ]
  },
  {
   "cell_type": "code",
   "execution_count": 9,
   "id": "16d8fcdd",
   "metadata": {},
   "outputs": [
    {
     "data": {
      "text/plain": [
       "True"
      ]
     },
     "execution_count": 9,
     "metadata": {},
     "output_type": "execute_result"
    }
   ],
   "source": [
    "a | b                                   # Bitwise OR operator "
   ]
  },
  {
   "cell_type": "code",
   "execution_count": 10,
   "id": "02c59fcd",
   "metadata": {},
   "outputs": [
    {
     "data": {
      "text/plain": [
       "True"
      ]
     },
     "execution_count": 10,
     "metadata": {},
     "output_type": "execute_result"
    }
   ],
   "source": [
    "a ^ b                                   # Bitwise XOR operator"
   ]
  },
  {
   "cell_type": "code",
   "execution_count": 11,
   "id": "c9cf966d",
   "metadata": {},
   "outputs": [
    {
     "data": {
      "text/plain": [
       "-2"
      ]
     },
     "execution_count": 11,
     "metadata": {},
     "output_type": "execute_result"
    }
   ],
   "source": [
    "~a                                      # Bitwise NOT operator"
   ]
  },
  {
   "cell_type": "markdown",
   "id": "b9154f7f",
   "metadata": {},
   "source": [
    "#### 5. Assignment operator"
   ]
  },
  {
   "cell_type": "code",
   "execution_count": 12,
   "id": "0c4f3867",
   "metadata": {},
   "outputs": [
    {
     "name": "stdout",
     "output_type": "stream",
     "text": [
      "5\n"
     ]
    }
   ],
   "source": [
    "n = 5\n",
    "print (n)"
   ]
  },
  {
   "cell_type": "code",
   "execution_count": 13,
   "id": "e9cc202c",
   "metadata": {},
   "outputs": [
    {
     "name": "stdout",
     "output_type": "stream",
     "text": [
      "10\n"
     ]
    }
   ],
   "source": [
    "n += 5\n",
    "print (n)"
   ]
  },
  {
   "cell_type": "code",
   "execution_count": 14,
   "id": "bd534d09",
   "metadata": {},
   "outputs": [
    {
     "name": "stdout",
     "output_type": "stream",
     "text": [
      "8\n"
     ]
    }
   ],
   "source": [
    "n -= 2                                 # Here n will be 10(refer above cell)\n",
    "print (n)"
   ]
  },
  {
   "cell_type": "code",
   "execution_count": 15,
   "id": "e0947dc0",
   "metadata": {},
   "outputs": [
    {
     "name": "stdout",
     "output_type": "stream",
     "text": [
      "16\n"
     ]
    }
   ],
   "source": [
    "n *= 2                                 # Here n will be 8(refer above cell)\n",
    "print (n)"
   ]
  },
  {
   "cell_type": "code",
   "execution_count": 16,
   "id": "84992889",
   "metadata": {},
   "outputs": [
    {
     "name": "stdout",
     "output_type": "stream",
     "text": [
      "8.0\n"
     ]
    }
   ],
   "source": [
    "n /= 2                                 # Here n will be 16(refer above cell)\n",
    "print (n)"
   ]
  },
  {
   "cell_type": "code",
   "execution_count": 17,
   "id": "ce64967b",
   "metadata": {},
   "outputs": [
    {
     "name": "stdout",
     "output_type": "stream",
     "text": [
      "2.0\n"
     ]
    }
   ],
   "source": [
    "n %= 3                                 # Here n will be 8(refer above cell)\n",
    "print (n)"
   ]
  }
 ],
 "metadata": {
  "kernelspec": {
   "display_name": "Python 3",
   "language": "python",
   "name": "python3"
  },
  "language_info": {
   "codemirror_mode": {
    "name": "ipython",
    "version": 3
   },
   "file_extension": ".py",
   "mimetype": "text/x-python",
   "name": "python",
   "nbconvert_exporter": "python",
   "pygments_lexer": "ipython3",
   "version": "3.8.8"
  }
 },
 "nbformat": 4,
 "nbformat_minor": 5
}
