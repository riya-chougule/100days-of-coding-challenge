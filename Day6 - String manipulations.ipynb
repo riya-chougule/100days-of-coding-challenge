{
 "cells": [
  {
   "cell_type": "markdown",
   "id": "56259b38",
   "metadata": {},
   "source": [
    "### Description : This notebook includes basic string manipulation operations"
   ]
  },
  {
   "cell_type": "markdown",
   "id": "7b9981dd",
   "metadata": {},
   "source": [
    "### Date : 15-09-2021"
   ]
  },
  {
   "cell_type": "code",
   "execution_count": 1,
   "id": "34326404",
   "metadata": {},
   "outputs": [
    {
     "name": "stdout",
     "output_type": "stream",
     "text": [
      "e\n"
     ]
    }
   ],
   "source": [
    "str1 = \"Hello, World\"\n",
    "print(str1[1])"
   ]
  },
  {
   "cell_type": "markdown",
   "id": "92571559",
   "metadata": {},
   "source": [
    "#### Slicing the string"
   ]
  },
  {
   "cell_type": "code",
   "execution_count": 2,
   "id": "16244ca5",
   "metadata": {},
   "outputs": [
    {
     "data": {
      "text/plain": [
       "'Hel'"
      ]
     },
     "execution_count": 2,
     "metadata": {},
     "output_type": "execute_result"
    }
   ],
   "source": [
    "str1[0:3]"
   ]
  },
  {
   "cell_type": "code",
   "execution_count": 3,
   "id": "6e16f0d3",
   "metadata": {},
   "outputs": [
    {
     "data": {
      "text/plain": [
       "'Wor'"
      ]
     },
     "execution_count": 3,
     "metadata": {},
     "output_type": "execute_result"
    }
   ],
   "source": [
    "str1[-5:-2]"
   ]
  },
  {
   "cell_type": "code",
   "execution_count": 4,
   "id": "863872f2",
   "metadata": {},
   "outputs": [
    {
     "data": {
      "text/plain": [
       "'llo, World'"
      ]
     },
     "execution_count": 4,
     "metadata": {},
     "output_type": "execute_result"
    }
   ],
   "source": [
    "str1[2:]"
   ]
  },
  {
   "cell_type": "markdown",
   "id": "dd476d60",
   "metadata": {},
   "source": [
    "#### Looping through string"
   ]
  },
  {
   "cell_type": "code",
   "execution_count": 5,
   "id": "ee67d383",
   "metadata": {},
   "outputs": [
    {
     "name": "stdout",
     "output_type": "stream",
     "text": [
      "H\n",
      "e\n",
      "l\n",
      "l\n",
      "o\n",
      ",\n",
      " \n",
      "W\n",
      "o\n",
      "r\n",
      "l\n",
      "d\n"
     ]
    }
   ],
   "source": [
    "for i in str1:\n",
    "    print (i)"
   ]
  },
  {
   "cell_type": "markdown",
   "id": "acf5ba06",
   "metadata": {},
   "source": [
    "#### String length"
   ]
  },
  {
   "cell_type": "code",
   "execution_count": 6,
   "id": "b38c4a66",
   "metadata": {},
   "outputs": [
    {
     "data": {
      "text/plain": [
       "12"
      ]
     },
     "execution_count": 6,
     "metadata": {},
     "output_type": "execute_result"
    }
   ],
   "source": [
    "len(str1)"
   ]
  },
  {
   "cell_type": "code",
   "execution_count": 7,
   "id": "fc97f5cf",
   "metadata": {},
   "outputs": [],
   "source": [
    "str2 = \", Written by Riya\""
   ]
  },
  {
   "cell_type": "markdown",
   "id": "83a3883d",
   "metadata": {},
   "source": [
    "#### Concatenation of strings "
   ]
  },
  {
   "cell_type": "code",
   "execution_count": 8,
   "id": "f63608f8",
   "metadata": {},
   "outputs": [
    {
     "data": {
      "text/plain": [
       "'Hello, World, Written by Riya'"
      ]
     },
     "execution_count": 8,
     "metadata": {},
     "output_type": "execute_result"
    }
   ],
   "source": [
    "str =str1 + str2\n",
    "str"
   ]
  },
  {
   "cell_type": "code",
   "execution_count": 9,
   "id": "673a2394",
   "metadata": {},
   "outputs": [
    {
     "data": {
      "text/plain": [
       "'HELLO, WORLD, WRITTEN BY RIYA'"
      ]
     },
     "execution_count": 9,
     "metadata": {},
     "output_type": "execute_result"
    }
   ],
   "source": [
    "str_upp = str.upper()\n",
    "str_upp"
   ]
  },
  {
   "cell_type": "code",
   "execution_count": 10,
   "id": "95133d93",
   "metadata": {},
   "outputs": [
    {
     "data": {
      "text/plain": [
       "'Hello, World, Written By Riya'"
      ]
     },
     "execution_count": 10,
     "metadata": {},
     "output_type": "execute_result"
    }
   ],
   "source": [
    "str_title = str.title()\n",
    "str_title"
   ]
  }
 ],
 "metadata": {
  "kernelspec": {
   "display_name": "Python 3",
   "language": "python",
   "name": "python3"
  },
  "language_info": {
   "codemirror_mode": {
    "name": "ipython",
    "version": 3
   },
   "file_extension": ".py",
   "mimetype": "text/x-python",
   "name": "python",
   "nbconvert_exporter": "python",
   "pygments_lexer": "ipython3",
   "version": "3.8.8"
  }
 },
 "nbformat": 4,
 "nbformat_minor": 5
}
