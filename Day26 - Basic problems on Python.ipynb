{
 "cells": [
  {
   "cell_type": "markdown",
   "id": "bf9fb8f1",
   "metadata": {},
   "source": [
    "### Description : This python notebook contains some problems along with their solutions"
   ]
  },
  {
   "cell_type": "markdown",
   "id": "d6a065c6",
   "metadata": {},
   "source": [
    "### Date : 5-11-2021"
   ]
  },
  {
   "cell_type": "markdown",
   "id": "112b11aa",
   "metadata": {},
   "source": [
    "#### 1. Python Program to Find Armstrong Number between an Interval"
   ]
  },
  {
   "cell_type": "code",
   "execution_count": 1,
   "id": "fbc12ead",
   "metadata": {},
   "outputs": [
    {
     "name": "stdout",
     "output_type": "stream",
     "text": [
      "Enter lower range: 120\n",
      "Enter upper range: 370\n",
      "125\n",
      "153\n",
      "216\n",
      "370\n"
     ]
    }
   ],
   "source": [
    "low = int(input(\"Enter lower range: \"))  \n",
    "upp = int(input(\"Enter upper range: \"))  \n",
    "  \n",
    "for num in range(low, upp + 1):\n",
    "    order = len(str(num))\n",
    "    sum = 0\n",
    "    temp = num\n",
    "    while temp > 0:\n",
    "        digit = temp % 10\n",
    "        sum += digit ** order\n",
    "        temp //= 10\n",
    "        if num == sum:\n",
    "            print(num) "
   ]
  },
  {
   "cell_type": "markdown",
   "id": "2932a86f",
   "metadata": {},
   "source": [
    "#### 2. Print the multiplication table of any number (from 1 to 10) by using the for loop"
   ]
  },
  {
   "cell_type": "code",
   "execution_count": 2,
   "id": "f01d591b",
   "metadata": {},
   "outputs": [
    {
     "name": "stdout",
     "output_type": "stream",
     "text": [
      "Enter the number : 5\n",
      "The Multiplication Table of:  5\n",
      "5 x 1 = 5\n",
      "5 x 2 = 10\n",
      "5 x 3 = 15\n",
      "5 x 4 = 20\n",
      "5 x 5 = 25\n",
      "5 x 6 = 30\n",
      "5 x 7 = 35\n",
      "5 x 8 = 40\n",
      "5 x 9 = 45\n",
      "5 x 10 = 50\n"
     ]
    }
   ],
   "source": [
    "number = int(input (\"Enter the number : \"))      \n",
    "# We are using \"for loop\" to iterate the multiplication 10 times       \n",
    "print (\"The Multiplication Table of: \", number)    \n",
    "for count in range(1, 11):      \n",
    "    print (number, 'x', count, '=', number * count) "
   ]
  },
  {
   "cell_type": "markdown",
   "id": "0dc62be3",
   "metadata": {},
   "source": [
    "#### 3. Print the prime numbers between given interval"
   ]
  },
  {
   "cell_type": "code",
   "execution_count": 3,
   "id": "636e3513",
   "metadata": {},
   "outputs": [
    {
     "name": "stdout",
     "output_type": "stream",
     "text": [
      "Enter lower range: 1\n",
      "Enter upper range: 20\n",
      "2\n",
      "3\n",
      "5\n",
      "7\n",
      "11\n",
      "13\n",
      "17\n",
      "19\n"
     ]
    }
   ],
   "source": [
    "lower = int(input(\"Enter lower range: \"))  \n",
    "upper = int(input(\"Enter upper range: \"))  \n",
    "  \n",
    "for num in range(lower,upper + 1):  \n",
    "    if num > 1:  \n",
    "        for i in range(2,num):  \n",
    "            if (num % i) == 0:  \n",
    "                break  \n",
    "        else:  \n",
    "            print(num)"
   ]
  }
 ],
 "metadata": {
  "kernelspec": {
   "display_name": "Python 3",
   "language": "python",
   "name": "python3"
  },
  "language_info": {
   "codemirror_mode": {
    "name": "ipython",
    "version": 3
   },
   "file_extension": ".py",
   "mimetype": "text/x-python",
   "name": "python",
   "nbconvert_exporter": "python",
   "pygments_lexer": "ipython3",
   "version": "3.8.8"
  }
 },
 "nbformat": 4,
 "nbformat_minor": 5
}
