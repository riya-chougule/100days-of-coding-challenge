{
 "cells": [
  {
   "cell_type": "markdown",
   "id": "1d1f6667",
   "metadata": {},
   "source": [
    "### Areas of polygons"
   ]
  },
  {
   "cell_type": "markdown",
   "id": "cbd11fd9",
   "metadata": {},
   "source": [
    "### Description : This notebook simply includes the functions defined for areas of different types of polygons"
   ]
  },
  {
   "cell_type": "markdown",
   "id": "aaefa6f2",
   "metadata": {},
   "source": [
    "### Date : 10-09-2021"
   ]
  },
  {
   "cell_type": "markdown",
   "id": "544f5c37",
   "metadata": {},
   "source": [
    "#### 1. Triangle"
   ]
  },
  {
   "cell_type": "code",
   "execution_count": 1,
   "id": "29791e9c",
   "metadata": {},
   "outputs": [
    {
     "name": "stdout",
     "output_type": "stream",
     "text": [
      "**** Triangle ****\n",
      "Enter the base : 4\n",
      "Enter the height : 7\n",
      "Area of triangle :  14.0\n"
     ]
    }
   ],
   "source": [
    "def triangle (a1,b1):\n",
    "    area_tri = 0.5 * tri_b * tri_h\n",
    "    print (\"Area of triangle : \",area_tri)\n",
    "\n",
    "print (\"**** Triangle ****\")\n",
    "tri_b = float(input(\"Enter the base : \"))\n",
    "tri_h = float(input(\"Enter the height : \"))\n",
    "triangle(tri_b,tri_h)"
   ]
  },
  {
   "cell_type": "markdown",
   "id": "b6179a81",
   "metadata": {},
   "source": [
    "#### 2. Rectangle"
   ]
  },
  {
   "cell_type": "code",
   "execution_count": 2,
   "id": "df549714",
   "metadata": {},
   "outputs": [
    {
     "name": "stdout",
     "output_type": "stream",
     "text": [
      "**** Rectangle ****\n",
      "Enter the length : 5\n",
      "Enter the width : 8\n",
      "Area of rectangle :  40.0\n"
     ]
    }
   ],
   "source": [
    "def rectangle (a2,b2):\n",
    "    area_rect = rect_l * rect_w\n",
    "    print (\"Area of rectangle : \",area_rect)\n",
    "    \n",
    "print (\"**** Rectangle ****\")\n",
    "rect_l = float(input(\"Enter the length : \"))\n",
    "rect_w = float(input(\"Enter the width : \"))\n",
    "rectangle(rect_l,rect_w)"
   ]
  },
  {
   "cell_type": "markdown",
   "id": "45811708",
   "metadata": {},
   "source": [
    "#### 3. Square"
   ]
  },
  {
   "cell_type": "code",
   "execution_count": 3,
   "id": "98250f07",
   "metadata": {},
   "outputs": [
    {
     "name": "stdout",
     "output_type": "stream",
     "text": [
      "**** Square ****\n",
      "Enter the side : 8\n",
      "Area of sqare :  64.0\n"
     ]
    }
   ],
   "source": [
    "def square (a3):\n",
    "    area_sqr = sqr_side * sqr_side\n",
    "    print (\"Area of sqare : \", area_sqr)\n",
    "    \n",
    "print (\"**** Square ****\")\n",
    "sqr_side = float(input(\"Enter the side : \"))\n",
    "square(sqr_side)"
   ]
  },
  {
   "cell_type": "markdown",
   "id": "35101e97",
   "metadata": {},
   "source": [
    "#### 4. Circle"
   ]
  },
  {
   "cell_type": "code",
   "execution_count": 4,
   "id": "10c6eefe",
   "metadata": {},
   "outputs": [
    {
     "name": "stdout",
     "output_type": "stream",
     "text": [
      "**** Circle ****\n",
      "Enter the radius : 11\n",
      "Area of circle :  380.06100000000004\n"
     ]
    }
   ],
   "source": [
    "def circle (a4):\n",
    "    area_cir = 3.141 * rad * rad\n",
    "    print (\"Area of circle : \",area_cir)\n",
    "    \n",
    "print (\"**** Circle ****\")\n",
    "rad = float(input(\"Enter the radius : \"))\n",
    "circle(rad)"
   ]
  },
  {
   "cell_type": "markdown",
   "id": "c928629a",
   "metadata": {},
   "source": [
    "#### 5. Cylinder"
   ]
  },
  {
   "cell_type": "code",
   "execution_count": 5,
   "id": "a5b5cdc7",
   "metadata": {},
   "outputs": [
    {
     "name": "stdout",
     "output_type": "stream",
     "text": [
      "**** Cylinder ****\n",
      "Enter the radius : 3\n",
      "Enter the height : 6\n",
      "Area of cylinder :  169.61399999999998\n"
     ]
    }
   ],
   "source": [
    "def cylinder (a5,b5):\n",
    "    area_cyl = (2 * 3.141 * cyl_rad * cyl_ht) + (2 * 3.141 * cyl_rad * cyl_rad)\n",
    "    print(\"Area of cylinder : \",area_cyl)\n",
    "    \n",
    "print (\"**** Cylinder ****\")\n",
    "cyl_rad = float(input(\"Enter the radius : \"))\n",
    "cyl_ht = float(input(\"Enter the height : \"))\n",
    "cylinder(cyl_rad,cyl_ht)"
   ]
  },
  {
   "cell_type": "markdown",
   "id": "d93e93d4",
   "metadata": {},
   "source": [
    "#### 6. Cube"
   ]
  },
  {
   "cell_type": "code",
   "execution_count": 6,
   "id": "31338cbb",
   "metadata": {},
   "outputs": [
    {
     "name": "stdout",
     "output_type": "stream",
     "text": [
      "**** Cube ****\n",
      "Enter the side : 7\n",
      "Area od cube :  294.0\n"
     ]
    }
   ],
   "source": [
    "def cube (a6):\n",
    "    area_cube = 6 * side * side\n",
    "    print (\"Area od cube : \", area_cube)\n",
    "    \n",
    "print (\"**** Cube ****\")\n",
    "side = float(input(\"Enter the side : \"))\n",
    "cube(side)"
   ]
  },
  {
   "cell_type": "markdown",
   "id": "d4644862",
   "metadata": {},
   "source": [
    "#### 7. Trapezium"
   ]
  },
  {
   "cell_type": "code",
   "execution_count": 7,
   "id": "a5829776",
   "metadata": {},
   "outputs": [
    {
     "name": "stdout",
     "output_type": "stream",
     "text": [
      "**** Trapzium ****\n",
      "Enter the base1 : 3\n",
      "Enter the base2 : 8\n",
      "Enter the height : 9\n",
      "Area of trapezium :  49.5\n"
     ]
    }
   ],
   "source": [
    "def trapezium (a7,b7,c7):\n",
    "    area_trp = 0.5 * (trp_base1 + trp_base2) * trp_ht\n",
    "    print (\"Area of trapezium : \", area_trp)\n",
    "    \n",
    "print (\"**** Trapzium ****\")\n",
    "trp_base1 = float(input(\"Enter the base1 : \"))\n",
    "trp_base2 = float(input(\"Enter the base2 : \"))\n",
    "trp_ht = float(input(\"Enter the height : \"))\n",
    "trapezium(trp_base1,trp_base2,trp_ht)"
   ]
  }
 ],
 "metadata": {
  "kernelspec": {
   "display_name": "Python 3",
   "language": "python",
   "name": "python3"
  },
  "language_info": {
   "codemirror_mode": {
    "name": "ipython",
    "version": 3
   },
   "file_extension": ".py",
   "mimetype": "text/x-python",
   "name": "python",
   "nbconvert_exporter": "python",
   "pygments_lexer": "ipython3",
   "version": "3.8.8"
  }
 },
 "nbformat": 4,
 "nbformat_minor": 5
}
