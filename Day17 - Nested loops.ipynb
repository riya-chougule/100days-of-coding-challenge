{
 "cells": [
  {
   "cell_type": "markdown",
   "id": "2aa5c96d",
   "metadata": {},
   "source": [
    "### Description : This python notebook includes nested loops for the problem statements"
   ]
  },
  {
   "cell_type": "markdown",
   "id": "43a31709",
   "metadata": {},
   "source": [
    "### Date : 26-09-2021"
   ]
  },
  {
   "cell_type": "markdown",
   "id": "12330b7d",
   "metadata": {},
   "source": [
    "#### Problem statement 1"
   ]
  },
  {
   "cell_type": "code",
   "execution_count": 1,
   "id": "fef9d3b1",
   "metadata": {},
   "outputs": [],
   "source": [
    "fruits = ['Apple','Mango','Blueberry','Banana','Watermelon']"
   ]
  },
  {
   "cell_type": "code",
   "execution_count": 2,
   "id": "dd798327",
   "metadata": {},
   "outputs": [],
   "source": [
    "colours = ['Red','Yellow','Blue','Yellow','Pink']"
   ]
  },
  {
   "cell_type": "code",
   "execution_count": 3,
   "id": "0f9fe69d",
   "metadata": {},
   "outputs": [
    {
     "name": "stdout",
     "output_type": "stream",
     "text": [
      "Apple Red\n",
      "Apple Yellow\n",
      "Apple Blue\n",
      "Apple Yellow\n",
      "Apple Pink\n",
      "Mango Red\n",
      "Mango Yellow\n",
      "Mango Blue\n",
      "Mango Yellow\n",
      "Mango Pink\n",
      "Blueberry Red\n",
      "Blueberry Yellow\n",
      "Blueberry Blue\n",
      "Blueberry Yellow\n",
      "Blueberry Pink\n",
      "Banana Red\n",
      "Banana Yellow\n",
      "Banana Blue\n",
      "Banana Yellow\n",
      "Banana Pink\n",
      "Watermelon Red\n",
      "Watermelon Yellow\n",
      "Watermelon Blue\n",
      "Watermelon Yellow\n",
      "Watermelon Pink\n"
     ]
    }
   ],
   "source": [
    "for x in fruits:\n",
    "    for y in colours:\n",
    "        print(x,y)"
   ]
  },
  {
   "cell_type": "markdown",
   "id": "a666f664",
   "metadata": {},
   "source": [
    "#### Problem statement 2"
   ]
  },
  {
   "cell_type": "code",
   "execution_count": 4,
   "id": "5d33b2e2",
   "metadata": {},
   "outputs": [
    {
     "name": "stdout",
     "output_type": "stream",
     "text": [
      " \n",
      "*  \n",
      "* *  \n",
      "* * *  \n",
      "* * * *  \n",
      "* * * * *  \n",
      "* * * * * *  \n",
      "* * * * * * *  \n",
      "* * * * * * * *  \n",
      "* * * * * * * * *  \n",
      "* * * * * * * * * *  \n"
     ]
    }
   ],
   "source": [
    "for i in range(11):              \n",
    "    for j in range(i):            \n",
    "        print('*', end=' ')        \n",
    "    print(' ')                    "
   ]
  }
 ],
 "metadata": {
  "kernelspec": {
   "display_name": "Python 3",
   "language": "python",
   "name": "python3"
  },
  "language_info": {
   "codemirror_mode": {
    "name": "ipython",
    "version": 3
   },
   "file_extension": ".py",
   "mimetype": "text/x-python",
   "name": "python",
   "nbconvert_exporter": "python",
   "pygments_lexer": "ipython3",
   "version": "3.8.8"
  }
 },
 "nbformat": 4,
 "nbformat_minor": 5
}
