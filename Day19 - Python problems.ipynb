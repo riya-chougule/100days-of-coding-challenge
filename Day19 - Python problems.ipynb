{
 "cells": [
  {
   "cell_type": "markdown",
   "id": "b87513c4",
   "metadata": {},
   "source": [
    "### Description : In this notebook I have implemented some basic Python problems"
   ]
  },
  {
   "cell_type": "markdown",
   "id": "075b58a6",
   "metadata": {},
   "source": [
    "### Date : 29-09-2021"
   ]
  },
  {
   "cell_type": "markdown",
   "id": "b85db48d",
   "metadata": {},
   "source": [
    "#### 1. Swap two numbers "
   ]
  },
  {
   "cell_type": "code",
   "execution_count": 2,
   "id": "8f3a96f2",
   "metadata": {},
   "outputs": [
    {
     "name": "stdout",
     "output_type": "stream",
     "text": [
      "Enter the first number : 10\n",
      "Enter the second number : 5\n",
      "The first number : 5.0\n",
      "The second number : 10.0\n"
     ]
    }
   ],
   "source": [
    "num1 = float(input(\"Enter the first number : \"))\n",
    "num2 = float(input(\"Enter the second number : \"))\n",
    "num = num1\n",
    "num1=num2\n",
    "num2=num\n",
    "print (\"The first number :\",num1)\n",
    "print (\"The second number :\",num2)"
   ]
  },
  {
   "cell_type": "markdown",
   "id": "c3ff411f",
   "metadata": {},
   "source": [
    "#### 2. Generate a random number "
   ]
  },
  {
   "cell_type": "code",
   "execution_count": 5,
   "id": "095c5722",
   "metadata": {},
   "outputs": [
    {
     "data": {
      "text/plain": [
       "0.21912290822052627"
      ]
     },
     "execution_count": 5,
     "metadata": {},
     "output_type": "execute_result"
    }
   ],
   "source": [
    "import random\n",
    "n = random.random()\n",
    "n"
   ]
  },
  {
   "cell_type": "markdown",
   "id": "7a412df2",
   "metadata": {},
   "source": [
    "#### 3. Print the string n number of times"
   ]
  },
  {
   "cell_type": "code",
   "execution_count": 16,
   "id": "756619a4",
   "metadata": {},
   "outputs": [
    {
     "name": "stdout",
     "output_type": "stream",
     "text": [
      "Enter the number : 3\n",
      "Riya Riya Riya \n"
     ]
    }
   ],
   "source": [
    "str = 'Riya '\n",
    "n = int(input(\"Enter the number : \"))\n",
    "print (str *n)"
   ]
  },
  {
   "cell_type": "markdown",
   "id": "8168b30f",
   "metadata": {},
   "source": [
    "#### 4. Get the Python version you are using"
   ]
  },
  {
   "cell_type": "code",
   "execution_count": 8,
   "id": "3fed52fe",
   "metadata": {},
   "outputs": [
    {
     "name": "stdout",
     "output_type": "stream",
     "text": [
      "Python version\n",
      "3.8.8 (default, Apr 13 2021, 12:59:45) \n",
      "[Clang 10.0.0 ]\n",
      "Version info.\n",
      "sys.version_info(major=3, minor=8, micro=8, releaselevel='final', serial=0)\n"
     ]
    }
   ],
   "source": [
    "import sys\n",
    "print(\"Python version\")\n",
    "print (sys.version)\n",
    "print(\"Version info.\")\n",
    "print (sys.version_info)"
   ]
  },
  {
   "cell_type": "markdown",
   "id": "680954be",
   "metadata": {},
   "source": [
    "#### 5. Get current date and time"
   ]
  },
  {
   "cell_type": "code",
   "execution_count": 22,
   "id": "1a63604b",
   "metadata": {},
   "outputs": [
    {
     "name": "stdout",
     "output_type": "stream",
     "text": [
      "Current date and time : \n",
      "29-09-21, 16:26:20\n"
     ]
    }
   ],
   "source": [
    "import datetime\n",
    "now = datetime.datetime.now()\n",
    "print (\"Current date and time : \")\n",
    "print (now.strftime(\"%d-%m-%y, %H:%M:%S\"))"
   ]
  }
 ],
 "metadata": {
  "kernelspec": {
   "display_name": "Python 3",
   "language": "python",
   "name": "python3"
  },
  "language_info": {
   "codemirror_mode": {
    "name": "ipython",
    "version": 3
   },
   "file_extension": ".py",
   "mimetype": "text/x-python",
   "name": "python",
   "nbconvert_exporter": "python",
   "pygments_lexer": "ipython3",
   "version": "3.8.8"
  }
 },
 "nbformat": 4,
 "nbformat_minor": 5
}
